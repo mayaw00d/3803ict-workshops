{
 "cells": [
  {
   "cell_type": "markdown",
   "metadata": {},
   "source": [
    "# Topic Modelling for News"
   ]
  },
  {
   "cell_type": "markdown",
   "metadata": {},
   "source": [
    "![](https://images.unsplash.com/photo-1495020689067-958852a7765e?ixlib=rb-1.2.1&ixid=eyJhcHBfaWQiOjEyMDd9&auto=format&fit=crop&w=1050&q=80)\n",
    "\n",
    "Photo by [Roman Kraft](https://unsplash.com/photos/_Zua2hyvTBk)"
   ]
  },
  {
   "cell_type": "markdown",
   "metadata": {},
   "source": [
    "This exercise is about modelling the main topics of a database of News headlines."
   ]
  },
  {
   "cell_type": "markdown",
   "metadata": {},
   "source": [
    "Begin by importing the needed libraries:"
   ]
  },
  {
   "cell_type": "code",
   "execution_count": 2,
   "metadata": {},
   "outputs": [],
   "source": [
    "# TODO: import needed libraries\n",
    "import nltk\n",
    "import numpy as np\n",
    "import pandas as pd\n",
    "import gensim"
   ]
  },
  {
   "cell_type": "markdown",
   "metadata": {},
   "source": [
    "Load the data in the file `random_headlines.csv`"
   ]
  },
  {
   "cell_type": "code",
   "execution_count": 3,
   "metadata": {
    "scrolled": true
   },
   "outputs": [],
   "source": [
    "# TODO: load the dataset\n",
    "df = pd.read_csv('random_headlines.csv')"
   ]
  },
  {
   "cell_type": "code",
   "execution_count": 4,
   "metadata": {},
   "outputs": [
    {
     "name": "stdout",
     "output_type": "stream",
     "text": [
      "(20000, 2)\n"
     ]
    },
    {
     "data": {
      "text/html": [
       "<div>\n",
       "<style scoped>\n",
       "    .dataframe tbody tr th:only-of-type {\n",
       "        vertical-align: middle;\n",
       "    }\n",
       "\n",
       "    .dataframe tbody tr th {\n",
       "        vertical-align: top;\n",
       "    }\n",
       "\n",
       "    .dataframe thead th {\n",
       "        text-align: right;\n",
       "    }\n",
       "</style>\n",
       "<table border=\"1\" class=\"dataframe\">\n",
       "  <thead>\n",
       "    <tr style=\"text-align: right;\">\n",
       "      <th></th>\n",
       "      <th>publish_date</th>\n",
       "      <th>headline_text</th>\n",
       "    </tr>\n",
       "  </thead>\n",
       "  <tbody>\n",
       "    <tr>\n",
       "      <th>0</th>\n",
       "      <td>20120305</td>\n",
       "      <td>ute driver hurt in intersection crash</td>\n",
       "    </tr>\n",
       "    <tr>\n",
       "      <th>1</th>\n",
       "      <td>20081128</td>\n",
       "      <td>6yo dies in cycling accident</td>\n",
       "    </tr>\n",
       "    <tr>\n",
       "      <th>2</th>\n",
       "      <td>20090325</td>\n",
       "      <td>bumper olive harvest expected</td>\n",
       "    </tr>\n",
       "    <tr>\n",
       "      <th>3</th>\n",
       "      <td>20100201</td>\n",
       "      <td>replica replaces northernmost sign</td>\n",
       "    </tr>\n",
       "    <tr>\n",
       "      <th>4</th>\n",
       "      <td>20080225</td>\n",
       "      <td>woods targets perfect season</td>\n",
       "    </tr>\n",
       "  </tbody>\n",
       "</table>\n",
       "</div>"
      ],
      "text/plain": [
       "   publish_date                          headline_text\n",
       "0      20120305  ute driver hurt in intersection crash\n",
       "1      20081128           6yo dies in cycling accident\n",
       "2      20090325          bumper olive harvest expected\n",
       "3      20100201     replica replaces northernmost sign\n",
       "4      20080225           woods targets perfect season"
      ]
     },
     "execution_count": 4,
     "metadata": {},
     "output_type": "execute_result"
    }
   ],
   "source": [
    "print(df.shape)\n",
    "df.head()"
   ]
  },
  {
   "cell_type": "markdown",
   "metadata": {},
   "source": [
    "This is always a good idea to perform some EDA (exploratory data analytics) on a dataset..."
   ]
  },
  {
   "cell_type": "code",
   "execution_count": 5,
   "metadata": {},
   "outputs": [
    {
     "name": "stdout",
     "output_type": "stream",
     "text": [
      "<class 'pandas.core.frame.DataFrame'>\n",
      "RangeIndex: 20000 entries, 0 to 19999\n",
      "Data columns (total 2 columns):\n",
      " #   Column         Non-Null Count  Dtype \n",
      "---  ------         --------------  ----- \n",
      " 0   publish_date   20000 non-null  int64 \n",
      " 1   headline_text  20000 non-null  object\n",
      "dtypes: int64(1), object(1)\n",
      "memory usage: 312.6+ KB\n"
     ]
    }
   ],
   "source": [
    "# TODO: Perform a short EDA\n",
    "df.info()"
   ]
  },
  {
   "cell_type": "markdown",
   "metadata": {},
   "source": [
    "Now perform all the needed preprocessing on those headlines: case lowering, tokenization, punctuation removal, stopwords removal, stemming/lemmatization."
   ]
  },
  {
   "cell_type": "code",
   "execution_count": 6,
   "metadata": {},
   "outputs": [
    {
     "data": {
      "text/plain": [
       "0    [ute, driver, hurt, intersect, crash]\n",
       "1                       [die, cycl, accid]\n",
       "2          [bumper, oliv, harvest, expect]\n",
       "3    [replica, replac, northernmost, sign]\n",
       "4          [wood, target, perfect, season]\n",
       "Name: headline_stemmed, dtype: object"
      ]
     },
     "execution_count": 6,
     "metadata": {},
     "output_type": "execute_result"
    }
   ],
   "source": [
    "# TODO: Preprocess the input data\n",
    "from nltk.tokenize import word_tokenize\n",
    "from nltk.stem import PorterStemmer\n",
    "from nltk.corpus import stopwords\n",
    "\n",
    "stemmer = PorterStemmer()\n",
    "stop = stopwords.words('english')\n",
    "\n",
    "df['headline_stemmed'] = df['headline_text'].apply(lambda df: nltk.word_tokenize(df))\n",
    "df['headline_stemmed'] = df['headline_stemmed'].apply(lambda x: [item for item in x if item.isalpha()])\n",
    "df['headline_stemmed'] = df['headline_stemmed'].apply(lambda x: [item for item in x if item not in stop])\n",
    "df['headline_stemmed'] = df['headline_stemmed'].apply(lambda x: [stemmer.stem(item) for item in x])\n",
    "df['headline_stemmed'].head()"
   ]
  },
  {
   "cell_type": "markdown",
   "metadata": {},
   "source": [
    "Now use Gensim to compute a BOW"
   ]
  },
  {
   "cell_type": "code",
   "execution_count": 7,
   "metadata": {},
   "outputs": [
    {
     "name": "stdout",
     "output_type": "stream",
     "text": [
      "20000\n",
      "[[(0, 1), (1, 1), (2, 1), (3, 1), (4, 1)], [(5, 1), (6, 1), (7, 1)]]\n"
     ]
    }
   ],
   "source": [
    "# TODO: Compute the BOW using Gensim\n",
    "from gensim.corpora import Dictionary\n",
    "\n",
    "gensim_dict = Dictionary(df['headline_stemmed'])\n",
    "corpus = [gensim_dict.doc2bow(line) for line in df['headline_stemmed']]\n",
    "\n",
    "print(len(corpus))\n",
    "print(corpus[0:2])"
   ]
  },
  {
   "cell_type": "markdown",
   "metadata": {},
   "source": [
    "Compute the TF-IDF using Gensim"
   ]
  },
  {
   "cell_type": "code",
   "execution_count": 8,
   "metadata": {},
   "outputs": [
    {
     "name": "stdout",
     "output_type": "stream",
     "text": [
      "20000\n"
     ]
    }
   ],
   "source": [
    "# TODO: Compute TF-IDF\n",
    "from gensim.models import TfidfModel\n",
    "\n",
    "tfidf_model = TfidfModel(corpus)\n",
    "tf_idf = tfidf_model[corpus]\n",
    "print(len(tf_idf))\n"
   ]
  },
  {
   "cell_type": "markdown",
   "metadata": {},
   "source": [
    "Finally compute the **LSA** (also called LSI) using Gensim, for a given number of Topics that you choose yourself"
   ]
  },
  {
   "cell_type": "code",
   "execution_count": 14,
   "metadata": {},
   "outputs": [
    {
     "name": "stderr",
     "output_type": "stream",
     "text": [
      "c:\\Users\\61406\\AppData\\Local\\Programs\\Python\\Python39\\lib\\site-packages\\gensim\\models\\lsimodel.py:963: DeprecationWarning: `scipy.sparse.sparsetools.csc_matvecs` is deprecated along with the `scipy.sparse.sparsetools` namespace. `scipy.sparse.sparsetools.csc_matvecs` will be removed in SciPy 1.14.0, and the `scipy.sparse.sparsetools` namespace will be removed in SciPy 2.0.0.\n",
      "  sparsetools.csc_matvecs(\n",
      "c:\\Users\\61406\\AppData\\Local\\Programs\\Python\\Python39\\lib\\site-packages\\scipy\\linalg\\_special_matrices.py:154: DeprecationWarning: 'tri'/'tril/'triu' are deprecated as of SciPy 1.11.0 and will be removed in v1.13.0. Please use numpy.(tri/tril/triu) instead.\n",
      "  out = (1 - tri(m.shape[0], m.shape[1], k - 1, m.dtype.char)) * m\n",
      "c:\\Users\\61406\\AppData\\Local\\Programs\\Python\\Python39\\lib\\site-packages\\scipy\\linalg\\_special_matrices.py:154: DeprecationWarning: 'tri'/'tril/'triu' are deprecated as of SciPy 1.11.0 and will be removed in v1.13.0. Please use numpy.(tri/tril/triu) instead.\n",
      "  out = (1 - tri(m.shape[0], m.shape[1], k - 1, m.dtype.char)) * m\n",
      "c:\\Users\\61406\\AppData\\Local\\Programs\\Python\\Python39\\lib\\site-packages\\scipy\\linalg\\_special_matrices.py:154: DeprecationWarning: 'tri'/'tril/'triu' are deprecated as of SciPy 1.11.0 and will be removed in v1.13.0. Please use numpy.(tri/tril/triu) instead.\n",
      "  out = (1 - tri(m.shape[0], m.shape[1], k - 1, m.dtype.char)) * m\n"
     ]
    }
   ],
   "source": [
    "# TODO: Compute LSA\n",
    "from gensim.models import LsiModel\n",
    "\n",
    "# use a different number, answer used 4\n",
    "lsi_model = LsiModel(corpus=corpus, num_topics=4, id2word=gensim_dict)"
   ]
  },
  {
   "cell_type": "markdown",
   "metadata": {},
   "source": [
    "For each of the topic, show the most significant words."
   ]
  },
  {
   "cell_type": "code",
   "execution_count": 15,
   "metadata": {},
   "outputs": [
    {
     "data": {
      "text/plain": [
       "[(0, '-0.752*\"polic\" + -0.404*\"man\" + -0.208*\"charg\"'),\n",
       " (1, '0.669*\"man\" + -0.575*\"polic\" + 0.329*\"charg\"'),\n",
       " (2, '0.655*\"new\" + 0.298*\"plan\" + 0.242*\"say\"'),\n",
       " (3, '0.703*\"new\" + -0.337*\"plan\" + -0.336*\"say\"')]"
      ]
     },
     "execution_count": 15,
     "metadata": {},
     "output_type": "execute_result"
    }
   ],
   "source": [
    "# TODO: Print the 3 or 4 most significant words of each topic\n",
    "lsi_model.print_topics(num_words=3)"
   ]
  },
  {
   "cell_type": "markdown",
   "metadata": {},
   "source": [
    "What do you think about those results?"
   ]
  },
  {
   "cell_type": "markdown",
   "metadata": {},
   "source": [
    "The results indicate an insight into the key words in the topic. \n",
    "The first topic (-0.752 \"police\" + -0.404 \"man\" + -0.208 \"charged\") seems to capture news related to crime or police activity.\n",
    "The second topic (0.669 \"man\" + -0.575 \"police\" + 0.329 \"charged\") again hints at a focus on individuals (possibly criminals or victims) in news involving police.\n",
    "The third and fourth topic (0.655 \"new\" + 0.298 \"plan\" + 0.242 \"say\") seems to involve new plans or policies being discussed or announced.\n",
    "\n",
    "Adjusting the number of topics could provide better separation of themes between each topic. "
   ]
  },
  {
   "cell_type": "markdown",
   "metadata": {},
   "source": [
    "Now let's try to use LDA instead of LSA using Gensim"
   ]
  },
  {
   "cell_type": "code",
   "execution_count": 16,
   "metadata": {},
   "outputs": [],
   "source": [
    "# TODO: Compute LDA\n",
    "from gensim.models import LdaModel\n",
    "lda_model = LdaModel(corpus=corpus, num_topics=4, id2word=gensim_dict, random_state=0, chunksize=512, passes=5)"
   ]
  },
  {
   "cell_type": "code",
   "execution_count": 17,
   "metadata": {
    "scrolled": true
   },
   "outputs": [
    {
     "data": {
      "text/plain": [
       "[(0, '0.016*\"report\" + 0.009*\"back\" + 0.009*\"may\"'),\n",
       " (1, '0.012*\"mine\" + 0.011*\"polic\" + 0.009*\"elect\"'),\n",
       " (2, '0.013*\"question\" + 0.010*\"council\" + 0.010*\"fund\"'),\n",
       " (3, '0.012*\"sydney\" + 0.012*\"charg\" + 0.011*\"australian\"')]"
      ]
     },
     "execution_count": 17,
     "metadata": {},
     "output_type": "execute_result"
    }
   ],
   "source": [
    "# TODO: print the most frequent words of each topic\n",
    "lda_model.print_topics(num_words=3)"
   ]
  },
  {
   "cell_type": "markdown",
   "metadata": {},
   "source": [
    "Now, how does it work with LDA?"
   ]
  },
  {
   "cell_type": "markdown",
   "metadata": {},
   "source": [
    "It allows for sets of observations to be explained by unobserved groups.\n",
    "\n",
    "Topic 0 (\"report\", \"back\", \"may\") might represent a general discussion or reporting on various events.\n",
    "Topic 1 (\"mine\", \"police\", \"elect\") likely relates to topics around mining industry issues, law enforcement, and possibly politics or elections.\n",
    "Topic 2 (\"question\", \"council\", \"fund\") seems to involve queries or discussions about local government and financing.\n",
    "Topic 3 (\"sydney\", \"charged\", \"australian\") appears to be geographically specific, perhaps dealing with legal matters in Australia, with a focus on Sydney.\n",
    "\n",
    "Evidently, the key words in the four topic using LDA are very different to LSA. They conclude different meanings. \n",
    "\n",
    "The words in each topic are the central terms around which the topic is built, but they do not provide a full picture. The real interpretative work comes in when looking at more words for each topic and consider them in the context of the documents they come from."
   ]
  },
  {
   "cell_type": "code",
   "execution_count": null,
   "metadata": {},
   "outputs": [
    {
     "data": {
      "text/plain": [
       "[(0, '0.016*\"report\" + 0.009*\"back\" + 0.009*\"may\"'),\n",
       " (1, '0.012*\"mine\" + 0.011*\"polic\" + 0.009*\"elect\"'),\n",
       " (2, '0.013*\"question\" + 0.010*\"council\" + 0.010*\"fund\"'),\n",
       " (3, '0.012*\"sydney\" + 0.012*\"charg\" + 0.011*\"australian\"')]"
      ]
     },
     "metadata": {},
     "output_type": "display_data"
    }
   ],
   "source": [
    "# TODO: print the most frequent words of each topic\n",
    "lda_model.print_topics(num_words=3)"
   ]
  },
  {
   "cell_type": "markdown",
   "metadata": {},
   "source": [
    "Let's make some visualization of the LDA results using pyLDAvis."
   ]
  },
  {
   "cell_type": "code",
   "execution_count": 13,
   "metadata": {},
   "outputs": [
    {
     "data": {
      "text/html": [
       "\n",
       "<link rel=\"stylesheet\" type=\"text/css\" href=\"https://cdn.jsdelivr.net/gh/bmabey/pyLDAvis@3.4.0/pyLDAvis/js/ldavis.v1.0.0.css\">\n",
       "\n",
       "\n",
       "<div id=\"ldavis_el744021101133966566226235390\" style=\"background-color:white;\"></div>\n",
       "<script type=\"text/javascript\">\n",
       "\n",
       "var ldavis_el744021101133966566226235390_data = {\"mdsDat\": {\"x\": [-0.12613076185768318, -0.156447446091593, 0.2825782079492761], \"y\": [0.24140975480419755, -0.22473933192566833, -0.016670422878529396], \"topics\": [1, 2, 3], \"cluster\": [1, 1, 1], \"Freq\": [34.74979103590127, 33.948910695419585, 31.30129826867915]}, \"tinfo\": {\"Term\": [\"report\", \"mine\", \"charg\", \"court\", \"fund\", \"wa\", \"interview\", \"kill\", \"elect\", \"fire\", \"win\", \"trial\", \"face\", \"final\", \"crash\", \"may\", \"cut\", \"drug\", \"labor\", \"govern\", \"hous\", \"lead\", \"union\", \"miss\", \"warn\", \"water\", \"want\", \"govt\", \"futur\", \"urg\", \"charg\", \"court\", \"fund\", \"face\", \"cut\", \"govern\", \"want\", \"urg\", \"drug\", \"make\", \"forc\", \"set\", \"health\", \"aussi\", \"shoot\", \"support\", \"trade\", \"concern\", \"farmer\", \"doctor\", \"claim\", \"hospit\", \"team\", \"men\", \"school\", \"coast\", \"approv\", \"leav\", \"telstra\", \"line\", \"stori\", \"olymp\", \"reduc\", \"citi\", \"govt\", \"question\", \"sydney\", \"polic\", \"new\", \"council\", \"man\", \"plan\", \"say\", \"mine\", \"interview\", \"win\", \"elect\", \"lead\", \"water\", \"warn\", \"futur\", \"market\", \"drought\", \"murder\", \"wa\", \"rise\", \"club\", \"day\", \"commun\", \"rate\", \"student\", \"injuri\", \"perth\", \"fall\", \"world\", \"second\", \"minist\", \"eye\", \"pull\", \"investig\", \"probe\", \"econom\", \"pm\", \"melbourn\", \"found\", \"turnbul\", \"debat\", \"stage\", \"next\", \"latest\", \"call\", \"qld\", \"say\", \"australia\", \"help\", \"new\", \"plan\", \"report\", \"kill\", \"fire\", \"trial\", \"crash\", \"may\", \"final\", \"hous\", \"miss\", \"run\", \"union\", \"get\", \"pay\", \"car\", \"woman\", \"drum\", \"test\", \"search\", \"die\", \"station\", \"labor\", \"friday\", \"blaze\", \"risk\", \"great\", \"news\", \"work\", \"dead\", \"power\", \"countri\", \"judg\", \"collaps\", \"bu\", \"pole\", \"attack\", \"polic\", \"road\", \"man\", \"hit\", \"fear\", \"call\"], \"Freq\": [353.0, 337.0, 298.0, 261.0, 257.0, 252.0, 243.0, 225.0, 235.0, 212.0, 229.0, 206.0, 224.0, 194.0, 192.0, 191.0, 201.0, 200.0, 179.0, 194.0, 175.0, 187.0, 173.0, 168.0, 180.0, 179.0, 183.0, 336.0, 175.0, 178.0, 298.0774008425349, 261.00556026533405, 257.2514262912266, 224.2250711370205, 200.7003092768613, 193.7829452301675, 183.1569179568593, 177.93832377123348, 199.80714692349449, 173.35097445697474, 175.14367403301733, 167.8250252443005, 164.7421284857407, 162.8306305639296, 148.20282888557077, 158.29826449746085, 158.70134217147705, 143.64235694998715, 139.13973197301596, 134.69077044667316, 129.00828000965228, 124.34186737486215, 121.80265234139272, 117.26684152132603, 117.05046949231901, 112.4553259042567, 138.71197658226066, 140.14916098577206, 111.13119582364688, 105.13837874081115, 182.6586488749844, 115.9983089337261, 116.8611906578752, 121.39954146493218, 271.0059206779206, 272.0713373124073, 228.8201898232496, 329.2167780800585, 245.56652326496223, 185.2705357584541, 210.41999282640862, 189.7266690127695, 170.59912266948402, 336.37957791620494, 243.03356232194884, 228.7782936233151, 235.19927490010318, 186.40577267116367, 179.15420379151712, 179.4292714659778, 175.00577455160573, 161.52035475059134, 153.07955608145022, 173.68171943323193, 251.09463460770863, 140.40373699822635, 150.54234871958244, 137.91580178229088, 147.32392717948963, 126.82707128114384, 146.15359207400132, 116.5005020551106, 145.606181452044, 109.18731866512938, 100.83600619255881, 98.98957388120941, 102.29300528071765, 113.80124642264296, 102.9130023046236, 101.42926683313055, 99.95797914702362, 115.82593750816673, 91.35038826301496, 157.25146987281323, 120.17520183138276, 115.34859940316149, 111.49239713013877, 116.9177339807791, 107.5310009339703, 106.46796006199583, 227.35872709368547, 127.56057426729703, 154.51999596585762, 126.73898799458748, 131.63964460922313, 147.13502899526537, 127.44751431690402, 352.6341493413628, 225.0337714402997, 212.28103108186053, 205.64723203757978, 192.1030343720775, 190.57664494586479, 193.98351372543416, 174.90146264977645, 167.9690072422659, 155.29431052290624, 172.62932954069416, 141.99541422844453, 154.2445121718236, 127.2547817058596, 127.75351928979916, 114.8637726425601, 129.42638073072428, 116.81537204716454, 114.13580149562576, 137.30660502975826, 178.7975434723592, 112.03530009137876, 145.8051520788017, 120.34910099384088, 100.28016948459945, 103.15431079871408, 108.02806054277612, 100.50849086863583, 108.28575857539876, 95.07143323338276, 107.19135317787536, 113.30974120315739, 110.67755909619477, 108.28969888942395, 179.97963767991564, 266.91890577670705, 147.28691950482028, 180.08047083920158, 126.86276906005197, 124.23514037100462, 129.5536670798036], \"Total\": [353.0, 337.0, 298.0, 261.0, 257.0, 252.0, 243.0, 225.0, 235.0, 212.0, 229.0, 206.0, 224.0, 194.0, 192.0, 191.0, 201.0, 200.0, 179.0, 194.0, 175.0, 187.0, 173.0, 168.0, 180.0, 179.0, 183.0, 336.0, 175.0, 178.0, 298.7409389875766, 261.68201980658546, 257.9909208662423, 224.9057555695185, 201.3715840387683, 194.4714913081496, 183.82909979079957, 178.60382329395398, 200.5756243274144, 174.04316676815031, 175.8492149382098, 168.52061597741294, 165.44299108385755, 163.54160202912058, 148.8648898948946, 159.04337922728118, 159.45470713796433, 144.324641190968, 139.81312880462937, 135.36536019314815, 129.67115951945874, 125.00518312983952, 122.48751157884713, 117.93197048780945, 117.72027464784553, 113.09962785995829, 139.51244282559932, 140.9859139189923, 111.8004121034291, 105.78921625043954, 184.59740785027432, 116.73592658423271, 117.61320724536692, 122.3027963340115, 336.98546775850986, 345.8756800110477, 314.7788553807823, 704.1038656102478, 434.62615329033883, 277.98203257616984, 390.9069447099422, 317.5047884454903, 325.4700417839276, 337.1198848087253, 243.66336797832156, 229.4567939114275, 235.92710822287685, 187.08159071479477, 179.8147631074402, 180.1378187928139, 175.71567818203368, 162.18377292932226, 153.75543106713687, 174.4498822907821, 252.21345939137262, 141.064987133244, 151.26093529742744, 138.60642000638336, 148.08767245555, 127.5021190999368, 146.968333776978, 117.18306881711638, 146.47884559272165, 109.89113569420755, 101.4863449505298, 99.63541306787262, 102.9691643854954, 114.57223020972494, 103.61665528894198, 102.13517997195059, 100.65649111204505, 116.6487698948219, 92.00901028361868, 158.42578176896168, 121.0714746347384, 116.19713684538333, 112.43478535401466, 118.0206287757437, 108.5008351248248, 108.38887975597251, 357.26860059886246, 168.4776050354166, 325.4700417839276, 178.76098184958556, 222.33470887488266, 434.62615329033883, 317.5047884454903, 353.41960491090873, 225.6786349883955, 212.9453118148147, 206.32333466088576, 192.73741622747247, 191.27059464259193, 194.6934604383436, 175.57302123373887, 168.62966998458637, 155.95828400852167, 173.38398291745207, 142.68884246680693, 155.005613754183, 127.90197278656414, 128.41609395656084, 115.47832823171262, 130.12998244711898, 117.4629057618474, 114.77001362254988, 138.07652264042108, 179.81275525919455, 112.67187196118087, 146.64122857227233, 121.0661817527597, 100.90844316489536, 103.80096084427929, 108.72200789878742, 101.17251087151695, 109.01351474041417, 95.72821446502368, 107.94047259792178, 114.19655579163312, 111.52877017109455, 109.14224867076547, 221.94914811859326, 704.1038656102478, 206.55547849379292, 390.9069447099422, 178.10654244891964, 178.7964206432488, 357.26860059886246], \"Category\": [\"Default\", \"Default\", \"Default\", \"Default\", \"Default\", \"Default\", \"Default\", \"Default\", \"Default\", \"Default\", \"Default\", \"Default\", \"Default\", \"Default\", \"Default\", \"Default\", \"Default\", \"Default\", \"Default\", \"Default\", \"Default\", \"Default\", \"Default\", \"Default\", \"Default\", \"Default\", \"Default\", \"Default\", \"Default\", \"Default\", \"Topic1\", \"Topic1\", \"Topic1\", \"Topic1\", \"Topic1\", \"Topic1\", \"Topic1\", \"Topic1\", \"Topic1\", \"Topic1\", \"Topic1\", \"Topic1\", \"Topic1\", \"Topic1\", \"Topic1\", \"Topic1\", \"Topic1\", \"Topic1\", \"Topic1\", \"Topic1\", \"Topic1\", \"Topic1\", \"Topic1\", \"Topic1\", \"Topic1\", \"Topic1\", \"Topic1\", \"Topic1\", \"Topic1\", \"Topic1\", \"Topic1\", \"Topic1\", \"Topic1\", \"Topic1\", \"Topic1\", \"Topic1\", \"Topic1\", \"Topic1\", \"Topic1\", \"Topic1\", \"Topic1\", \"Topic1\", \"Topic1\", \"Topic2\", \"Topic2\", \"Topic2\", \"Topic2\", \"Topic2\", \"Topic2\", \"Topic2\", \"Topic2\", \"Topic2\", \"Topic2\", \"Topic2\", \"Topic2\", \"Topic2\", \"Topic2\", \"Topic2\", \"Topic2\", \"Topic2\", \"Topic2\", \"Topic2\", \"Topic2\", \"Topic2\", \"Topic2\", \"Topic2\", \"Topic2\", \"Topic2\", \"Topic2\", \"Topic2\", \"Topic2\", \"Topic2\", \"Topic2\", \"Topic2\", \"Topic2\", \"Topic2\", \"Topic2\", \"Topic2\", \"Topic2\", \"Topic2\", \"Topic2\", \"Topic2\", \"Topic2\", \"Topic2\", \"Topic2\", \"Topic2\", \"Topic2\", \"Topic3\", \"Topic3\", \"Topic3\", \"Topic3\", \"Topic3\", \"Topic3\", \"Topic3\", \"Topic3\", \"Topic3\", \"Topic3\", \"Topic3\", \"Topic3\", \"Topic3\", \"Topic3\", \"Topic3\", \"Topic3\", \"Topic3\", \"Topic3\", \"Topic3\", \"Topic3\", \"Topic3\", \"Topic3\", \"Topic3\", \"Topic3\", \"Topic3\", \"Topic3\", \"Topic3\", \"Topic3\", \"Topic3\", \"Topic3\", \"Topic3\", \"Topic3\", \"Topic3\", \"Topic3\", \"Topic3\", \"Topic3\", \"Topic3\", \"Topic3\", \"Topic3\", \"Topic3\", \"Topic3\"], \"logprob\": [30.0, 29.0, 28.0, 27.0, 26.0, 25.0, 24.0, 23.0, 22.0, 21.0, 20.0, 19.0, 18.0, 17.0, 16.0, 15.0, 14.0, 13.0, 12.0, 11.0, 10.0, 9.0, 8.0, 7.0, 6.0, 5.0, 4.0, 3.0, 2.0, 1.0, -4.7842, -4.917, -4.9315, -5.0689, -5.1797, -5.2148, -5.2712, -5.3001, -5.1842, -5.3262, -5.3159, -5.3586, -5.3771, -5.3888, -5.4829, -5.417, -5.4145, -5.5142, -5.546, -5.5785, -5.6217, -5.6585, -5.6791, -5.7171, -5.7189, -5.759, -5.5491, -5.5388, -5.7708, -5.8263, -5.2739, -5.728, -5.7205, -5.6824, -4.8794, -4.8755, -5.0486, -4.6848, -4.978, -5.2597, -5.1324, -5.2359, -5.3422, -4.64, -4.965, -5.0255, -4.9978, -5.2303, -5.27, -5.2684, -5.2934, -5.3736, -5.4273, -5.301, -4.9324, -5.5137, -5.444, -5.5316, -5.4656, -5.6154, -5.4736, -5.7003, -5.4773, -5.7651, -5.8447, -5.8632, -5.8304, -5.7238, -5.8243, -5.8388, -5.8535, -5.7061, -5.9435, -5.4004, -5.6693, -5.7103, -5.7443, -5.6967, -5.7804, -5.7904, -5.0317, -5.6096, -5.4179, -5.6161, -5.5781, -5.4669, -5.6105, -4.5116, -4.9608, -5.0191, -5.0509, -5.119, -5.127, -5.1092, -5.2128, -5.2532, -5.3317, -5.2259, -5.4212, -5.3385, -5.5308, -5.5269, -5.6333, -5.5139, -5.6164, -5.6396, -5.4548, -5.1908, -5.6582, -5.3947, -5.5866, -5.769, -5.7408, -5.6946, -5.7668, -5.6922, -5.8224, -5.7024, -5.6469, -5.6704, -5.6922, -5.1842, -4.7901, -5.3846, -5.1836, -5.5339, -5.5548, -5.5129], \"loglift\": [30.0, 29.0, 28.0, 27.0, 26.0, 25.0, 24.0, 23.0, 22.0, 21.0, 20.0, 19.0, 18.0, 17.0, 16.0, 15.0, 14.0, 13.0, 12.0, 11.0, 10.0, 9.0, 8.0, 7.0, 6.0, 5.0, 4.0, 3.0, 2.0, 1.0, 1.0548, 1.0544, 1.0541, 1.054, 1.0537, 1.0534, 1.0533, 1.0533, 1.0532, 1.053, 1.053, 1.0529, 1.0528, 1.0526, 1.0525, 1.0523, 1.0523, 1.0523, 1.0522, 1.052, 1.0519, 1.0517, 1.0514, 1.0513, 1.0513, 1.0513, 1.0512, 1.051, 1.051, 1.0508, 1.0464, 1.0507, 1.0506, 1.0496, 0.8391, 0.817, 0.7381, 0.2968, 0.4861, 0.6513, 0.4376, 0.5421, 0.411, 1.0781, 1.0777, 1.0774, 1.0772, 1.0767, 1.0766, 1.0764, 1.0763, 1.0762, 1.0759, 1.0759, 1.0759, 1.0756, 1.0756, 1.0753, 1.0751, 1.075, 1.0748, 1.0745, 1.0743, 1.0739, 1.0739, 1.0738, 1.0737, 1.0736, 1.0735, 1.0734, 1.0733, 1.0732, 1.0731, 1.0729, 1.0729, 1.073, 1.0719, 1.0709, 1.0713, 1.0624, 0.6284, 0.8021, 0.3354, 0.7364, 0.5562, -0.0028, 0.1675, 1.1593, 1.1586, 1.1584, 1.1582, 1.1582, 1.1579, 1.1579, 1.1577, 1.1576, 1.1572, 1.1571, 1.1566, 1.1566, 1.1564, 1.1563, 1.1562, 1.1561, 1.156, 1.156, 1.1559, 1.1558, 1.1558, 1.1558, 1.1556, 1.1553, 1.1553, 1.1551, 1.1549, 1.1548, 1.1546, 1.1545, 1.1537, 1.1538, 1.1537, 0.9519, 0.1915, 0.8233, 0.3864, 0.8222, 0.7974, 0.1471]}, \"token.table\": {\"Topic\": [1, 1, 3, 1, 1, 2, 2, 3, 3, 2, 3, 3, 1, 1, 3, 1, 2, 1, 3, 2, 1, 1, 2, 3, 1, 3, 1, 2, 3, 2, 3, 3, 1, 2, 1, 3, 2, 2, 2, 1, 2, 1, 1, 2, 3, 3, 3, 1, 2, 3, 3, 1, 2, 3, 1, 1, 2, 3, 1, 1, 2, 3, 1, 3, 1, 3, 2, 2, 2, 3, 3, 2, 3, 1, 2, 2, 1, 1, 1, 1, 3, 2, 3, 1, 2, 3, 1, 2, 2, 3, 2, 1, 2, 3, 3, 2, 3, 1, 3, 2, 1, 2, 2, 3, 1, 2, 3, 3, 2, 2, 2, 3, 1, 2, 2, 1, 3, 2, 3, 2, 3, 3, 1, 2, 1, 3, 2, 1, 1, 2, 3, 3, 1, 2, 2, 1, 1, 2, 1, 1, 3, 1, 3, 2, 3, 1, 2, 3, 1, 2, 2, 2, 3, 3, 2], \"Freq\": [0.9963269023520726, 0.18923253527226108, 0.8109965797382618, 0.9966882920162164, 0.2908912194482923, 0.7104458628833294, 0.0068193645793628134, 0.9956272285869707, 0.9952588899681816, 0.6353762956484197, 0.36387188737574694, 0.99294793686983, 0.9975197942736351, 0.9893477796660222, 0.00817642793112415, 0.9948241419144708, 0.998274932672376, 0.9902773520942096, 0.9895219625203374, 0.9926552127026206, 0.9977506184093785, 0.6655106385313164, 0.33095664186422225, 0.9923928961895581, 0.9973937078019744, 0.9961739850937809, 0.9981547344897641, 0.9956248779359901, 0.9982948839558206, 0.9872389550129254, 0.008894044639756083, 0.9932908117874564, 0.9973009328780507, 0.9950868007595322, 0.9971301381743438, 0.9958578528193374, 0.9944382620116194, 0.9960703616050725, 0.9950055069306283, 0.9959727328132404, 0.9918907408811636, 0.9941841741789098, 0.30201946887821546, 0.00559295312737436, 0.6935261877944207, 0.9964381934720236, 0.99556077658269, 0.9951707777682818, 0.991150065381041, 0.00825958387817534, 0.994036914897337, 0.9961590862852262, 0.9959270670128122, 0.9951724153416749, 0.9975755247981181, 0.8041889812121029, 0.1958541430258258, 0.990997352288838, 0.9973223943730986, 0.40479509679546655, 0.5936994753000175, 0.004497723297727406, 0.286345460973881, 0.7130563439937821, 0.9919588683871174, 0.9967362796988268, 0.9984377536877611, 0.9972775227403875, 0.9888855145478537, 0.9912871180263862, 0.9969929143340025, 0.0055613407322441105, 0.9954799910716957, 0.018452077413317808, 0.9779601029058438, 0.9942186149333975, 0.9930070040929139, 0.9925397287321688, 0.9940062756411462, 0.5372122517695934, 0.4604676443739372, 0.9988668846087189, 0.9985852783952621, 0.0063121039317851554, 0.9910003172902694, 0.0063121039317851554, 0.992097388995075, 0.9966780814209144, 0.9905878192633762, 0.9962659596935467, 0.9974211373210775, 0.5660036749690651, 0.33822170821322184, 0.09663477377520624, 0.9922836856444819, 0.9953840435951611, 0.009216518922177418, 0.993695800378115, 0.9935124042940937, 0.99673095735576, 0.5984161717063977, 0.39999396740375004, 0.9890335709458411, 0.9895343124713223, 0.46726060751684023, 0.15338646082619678, 0.37920541704254207, 0.9907028523680979, 0.9934779058479768, 0.9940486856362772, 0.759744892937506, 0.2433557860190449, 0.7864097296210939, 0.21105849361154358, 0.9960618764340439, 0.9947862382148321, 0.9988127288212704, 0.9924503793968517, 0.9911933973854313, 0.2856375460492711, 0.7116732079532686, 0.9938555106924021, 0.525393978083928, 0.47623430761993474, 0.9938814732636312, 0.9960591323801752, 0.9936226182206946, 0.9969106689149373, 0.9941901015376746, 0.9913521154197285, 0.008473095003587424, 0.9922034345894953, 0.9913465315202585, 0.010834388322625777, 0.9934112760749712, 0.9934396563230077, 0.7274948621405425, 0.27320767748509456, 0.996019907886419, 0.9928407052499179, 0.9913165096477426, 0.9971483617754169, 0.9984328740061458, 0.989697363653837, 0.9977853610755102, 0.9966192028657741, 0.9951887603686937, 0.00396489545963623, 0.9954898338089938, 0.9936836206831028, 0.9954688753394882, 0.9980092378018502, 0.9967597989960543, 0.9933591375587952, 0.9952077794232627], \"Term\": [\"approv\", \"attack\", \"attack\", \"aussi\", \"australia\", \"australia\", \"blaze\", \"blaze\", \"bu\", \"call\", \"call\", \"car\", \"charg\", \"citi\", \"citi\", \"claim\", \"club\", \"coast\", \"collaps\", \"commun\", \"concern\", \"council\", \"council\", \"countri\", \"court\", \"crash\", \"cut\", \"day\", \"dead\", \"debat\", \"debat\", \"die\", \"doctor\", \"drought\", \"drug\", \"drum\", \"econom\", \"elect\", \"eye\", \"face\", \"fall\", \"farmer\", \"fear\", \"fear\", \"fear\", \"final\", \"fire\", \"forc\", \"found\", \"found\", \"friday\", \"fund\", \"futur\", \"get\", \"govern\", \"govt\", \"govt\", \"great\", \"health\", \"help\", \"help\", \"help\", \"hit\", \"hit\", \"hospit\", \"hous\", \"injuri\", \"interview\", \"investig\", \"judg\", \"kill\", \"labor\", \"labor\", \"latest\", \"latest\", \"lead\", \"leav\", \"line\", \"make\", \"man\", \"man\", \"market\", \"may\", \"melbourn\", \"melbourn\", \"melbourn\", \"men\", \"mine\", \"minist\", \"miss\", \"murder\", \"new\", \"new\", \"new\", \"news\", \"next\", \"next\", \"olymp\", \"pay\", \"perth\", \"plan\", \"plan\", \"pm\", \"pole\", \"polic\", \"polic\", \"polic\", \"power\", \"probe\", \"pull\", \"qld\", \"qld\", \"question\", \"question\", \"rate\", \"reduc\", \"report\", \"rise\", \"risk\", \"road\", \"road\", \"run\", \"say\", \"say\", \"school\", \"search\", \"second\", \"set\", \"shoot\", \"stage\", \"stage\", \"station\", \"stori\", \"stori\", \"student\", \"support\", \"sydney\", \"sydney\", \"team\", \"telstra\", \"test\", \"trade\", \"trial\", \"turnbul\", \"union\", \"urg\", \"wa\", \"wa\", \"want\", \"warn\", \"water\", \"win\", \"woman\", \"work\", \"world\"]}, \"R\": 30, \"lambda.step\": 0.01, \"plot.opts\": {\"xlab\": \"PC1\", \"ylab\": \"PC2\"}, \"topic.order\": [3, 2, 1]};\n",
       "\n",
       "function LDAvis_load_lib(url, callback){\n",
       "  var s = document.createElement('script');\n",
       "  s.src = url;\n",
       "  s.async = true;\n",
       "  s.onreadystatechange = s.onload = callback;\n",
       "  s.onerror = function(){console.warn(\"failed to load library \" + url);};\n",
       "  document.getElementsByTagName(\"head\")[0].appendChild(s);\n",
       "}\n",
       "\n",
       "if(typeof(LDAvis) !== \"undefined\"){\n",
       "   // already loaded: just create the visualization\n",
       "   !function(LDAvis){\n",
       "       new LDAvis(\"#\" + \"ldavis_el744021101133966566226235390\", ldavis_el744021101133966566226235390_data);\n",
       "   }(LDAvis);\n",
       "}else if(typeof define === \"function\" && define.amd){\n",
       "   // require.js is available: use it to load d3/LDAvis\n",
       "   require.config({paths: {d3: \"https://d3js.org/d3.v5\"}});\n",
       "   require([\"d3\"], function(d3){\n",
       "      window.d3 = d3;\n",
       "      LDAvis_load_lib(\"https://cdn.jsdelivr.net/gh/bmabey/pyLDAvis@3.4.0/pyLDAvis/js/ldavis.v3.0.0.js\", function(){\n",
       "        new LDAvis(\"#\" + \"ldavis_el744021101133966566226235390\", ldavis_el744021101133966566226235390_data);\n",
       "      });\n",
       "    });\n",
       "}else{\n",
       "    // require.js not available: dynamically load d3 & LDAvis\n",
       "    LDAvis_load_lib(\"https://d3js.org/d3.v5.js\", function(){\n",
       "         LDAvis_load_lib(\"https://cdn.jsdelivr.net/gh/bmabey/pyLDAvis@3.4.0/pyLDAvis/js/ldavis.v3.0.0.js\", function(){\n",
       "                 new LDAvis(\"#\" + \"ldavis_el744021101133966566226235390\", ldavis_el744021101133966566226235390_data);\n",
       "            })\n",
       "         });\n",
       "}\n",
       "</script>"
      ],
      "text/plain": [
       "PreparedData(topic_coordinates=              x         y  topics  cluster       Freq\n",
       "topic                                                \n",
       "2     -0.126131  0.241410       1        1  34.749791\n",
       "1     -0.156447 -0.224739       2        1  33.948911\n",
       "0      0.282578 -0.016670       3        1  31.301298, topic_info=        Term        Freq       Total Category  logprob  loglift\n",
       "1133  report  353.000000  353.000000  Default  30.0000  30.0000\n",
       "1043    mine  337.000000  337.000000  Default  29.0000  29.0000\n",
       "86     charg  298.000000  298.000000  Default  28.0000  28.0000\n",
       "312    court  261.000000  261.000000  Default  27.0000  27.0000\n",
       "365     fund  257.000000  257.000000  Default  26.0000  26.0000\n",
       "...      ...         ...         ...      ...      ...      ...\n",
       "222     road  147.286920  206.555478   Topic3  -5.3846   0.8233\n",
       "139      man  180.080471  390.906945   Topic3  -5.1836   0.3864\n",
       "981      hit  126.862769  178.106542   Topic3  -5.5339   0.8222\n",
       "393     fear  124.235140  178.796421   Topic3  -5.5548   0.7974\n",
       "177     call  129.553667  357.268601   Topic3  -5.5129   0.1471\n",
       "\n",
       "[158 rows x 6 columns], token_table=      Topic      Freq       Term\n",
       "term                            \n",
       "68        1  0.996327     approv\n",
       "743       1  0.189233     attack\n",
       "743       3  0.810997     attack\n",
       "1110      1  0.996688      aussi\n",
       "146       1  0.290891  australia\n",
       "...     ...       ...        ...\n",
       "600       2  0.995469      water\n",
       "500       2  0.998009        win\n",
       "241       3  0.996760      woman\n",
       "279       3  0.993359       work\n",
       "151       2  0.995208      world\n",
       "\n",
       "[155 rows x 3 columns], R=30, lambda_step=0.01, plot_opts={'xlab': 'PC1', 'ylab': 'PC2'}, topic_order=[3, 2, 1])"
      ]
     },
     "execution_count": 13,
     "metadata": {},
     "output_type": "execute_result"
    }
   ],
   "source": [
    "# TODO: show visualization results of the LDA\n",
    "import pyLDAvis\n",
    "import pyLDAvis.gensim_models\n",
    "pyLDAvis.enable_notebook()\n",
    "\n",
    "vis = pyLDAvis.gensim_models.prepare(lda_model, corpus, gensim_dict)\n",
    "vis"
   ]
  },
  {
   "cell_type": "markdown",
   "metadata": {},
   "source": [
    "Depending on your results, you can try to fine tune the algorithm: number of topics, hyperparameters...\n",
    "And check with others their results."
   ]
  }
 ],
 "metadata": {
  "kernelspec": {
   "display_name": "Python 3",
   "language": "python",
   "name": "python3"
  },
  "language_info": {
   "codemirror_mode": {
    "name": "ipython",
    "version": 3
   },
   "file_extension": ".py",
   "mimetype": "text/x-python",
   "name": "python",
   "nbconvert_exporter": "python",
   "pygments_lexer": "ipython3",
   "version": "3.9.13"
  },
  "toc": {
   "base_numbering": 1,
   "nav_menu": {},
   "number_sections": true,
   "sideBar": true,
   "skip_h1_title": false,
   "title_cell": "Table of Contents",
   "title_sidebar": "Contents",
   "toc_cell": false,
   "toc_position": {},
   "toc_section_display": true,
   "toc_window_display": false
  }
 },
 "nbformat": 4,
 "nbformat_minor": 2
}
