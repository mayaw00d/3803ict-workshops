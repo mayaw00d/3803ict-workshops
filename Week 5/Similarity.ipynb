{
 "cells": [
  {
   "cell_type": "markdown",
   "metadata": {},
   "source": [
    "# Similarity"
   ]
  },
  {
   "cell_type": "markdown",
   "metadata": {},
   "source": [
    "We will work on applying similarity: Jaccard and Cosine similarity. This exercise is a simple application of the lecture."
   ]
  },
  {
   "cell_type": "markdown",
   "metadata": {},
   "source": [
    "Begin by importing the needed libraries:"
   ]
  },
  {
   "cell_type": "code",
   "execution_count": 15,
   "metadata": {},
   "outputs": [],
   "source": [
    "# import needed libraries\n",
    "import nltk\n",
    "import numpy as np\n",
    "import pandas as pd\n",
    "import seaborn as sns\n",
    "import matplotlib as plt"
   ]
  },
  {
   "cell_type": "markdown",
   "metadata": {},
   "source": [
    "We will work with the following examples:"
   ]
  },
  {
   "cell_type": "code",
   "execution_count": 16,
   "metadata": {},
   "outputs": [],
   "source": [
    "A = \"Outside the classroom, Stallman pursued his studies with even more diligence, rushing off to fulfill his laboratory-assistant duties at Rockefeller University during the week and dodging the Vietnam protesters on his way to Saturday school at Columbia. It was there, while the rest of the Science Honors Program students sat around discussing their college choices, that Stallman finally took a moment to participate in the preclass bull session.\"\n",
    "B = \"To facilitate the process, AI Lab hackers had built a system that displayed both the source and display modes on a split screen. Despite this innovative hack, switching from mode to mode was still a nuisance.\"\n",
    "C = \"With no dorm and no dancing, Stallman's social universe imploded. Like an astronaut experiencing the aftereffects of zero-gravity, Stallman found that his ability to interact with nonhackers, especially female nonhackers, had atrophied significantly. After 16 weeks in the AI Lab, the self confidence he'd been quietly accumulating during his 4 years at Harvard was virtually gone.\""
   ]
  },
  {
   "cell_type": "markdown",
   "metadata": {},
   "source": [
    "Begin by computing the Jaccard Similarity J of all possibilities:\n",
    "* J(A, B)\n",
    "* J(B, C)\n",
    "* J(A, C)"
   ]
  },
  {
   "cell_type": "code",
   "execution_count": 17,
   "metadata": {},
   "outputs": [
    {
     "name": "stdout",
     "output_type": "stream",
     "text": [
      "Jaccard Similarity of AB: 0.08536585365853659\n",
      "Jaccard Similarity of BC: 0.09210526315789473\n",
      "Jaccard Similarity of AC: 0.125\n"
     ]
    }
   ],
   "source": [
    "# TODO: compute the Jaccard similarities\n",
    "# Split the sentences\n",
    "a = set(A.split())\n",
    "b = set(B.split())\n",
    "c = set(C.split())\n",
    "\n",
    "# Compute the intersection and union\n",
    "#intersect\n",
    "intersect_AB = a.intersection(b)\n",
    "intersect_BC = b.intersection(c)\n",
    "intersect_AC = a.intersection(c)\n",
    "#union\n",
    "union_AB = a.union(b)\n",
    "union_BC = b.union(c)\n",
    "union_AC = a.union(c)\n",
    "\n",
    "# Compute and print the Jaccard Similarity\n",
    "Jaccard_AB = len(intersect_AB) / len(union_AB)\n",
    "Jaccard_BC = len(intersect_BC) / len(union_BC)\n",
    "Jaccard_AC = len(intersect_AC) / len(union_AC)\n",
    "\n",
    "print(\"Jaccard Similarity of AB:\", Jaccard_AB)\n",
    "print(\"Jaccard Similarity of BC:\", Jaccard_BC)\n",
    "print(\"Jaccard Similarity of AC:\", Jaccard_AC)"
   ]
  },
  {
   "cell_type": "markdown",
   "metadata": {},
   "source": [
    "What are the closest to the other according to Jaccard Similarity?\n",
    "\n",
    "It is measured based on the intersect and union. The higher the Jaccard Similarity score indicates higher common terms in relation tto the total number of unique terms and shared terms. Therefore, A and C are most similar. "
   ]
  },
  {
   "cell_type": "markdown",
   "metadata": {},
   "source": [
    "\n",
    "Now let's do the same using TF-IDF and Cosine Similarity. Compute the TF-IDF and cosine similarities and print them."
   ]
  },
  {
   "cell_type": "code",
   "execution_count": 18,
   "metadata": {
    "scrolled": true
   },
   "outputs": [],
   "source": [
    "# TODO: compute the TF-IDF of A, B and C and the cosine similarities of all possibilities\n",
    "from sklearn.feature_extraction.text import TfidfVectorizer\n",
    "from sklearn.metrics.pairwise import cosine_similarity\n",
    "\n",
    "TF_IDF_vect = TfidfVectorizer()\n",
    "tf_idf = TF_IDF_vect.fit_transform([A, B, C])\n",
    "tf_idf = tf_idf.toarray()"
   ]
  },
  {
   "cell_type": "code",
   "execution_count": 19,
   "metadata": {},
   "outputs": [
    {
     "name": "stdout",
     "output_type": "stream",
     "text": [
      "Cosine Similarity of AB 0.16793269576264072\n",
      "Cosine Similarity of BC 0.13618963113796587\n",
      "Cosine Similarity of AC 0.28502960323339077\n"
     ]
    }
   ],
   "source": [
    "cos_similar = cosine_similarity(tf_idf, tf_idf)\n",
    "cos_sim_AB = cos_similar[0][1]\n",
    "cos_sim_BC = cos_similar[1][2]\n",
    "cos_sim_AC = cos_similar[0][2]\n",
    "print(\"Cosine Similarity of AB\", cos_sim_AB)\n",
    "print(\"Cosine Similarity of BC\", cos_sim_BC)\n",
    "print(\"Cosine Similarity of AC\", cos_sim_AC)"
   ]
  },
  {
   "cell_type": "markdown",
   "metadata": {},
   "source": [
    "Is it consistent with the Jaccard values?"
   ]
  },
  {
   "cell_type": "code",
   "execution_count": 20,
   "metadata": {},
   "outputs": [
    {
     "name": "stdout",
     "output_type": "stream",
     "text": [
      "Jaccard Similarity \t | \tCosine Similarity\n",
      "AB:\t 0.085 \t\t | \t 0.168\n",
      "BC:\t 0.092 \t\t | \t 0.136\n",
      "AC:\t 0.125 \t\t | \t 0.285\n",
      "_________________________________________________\n"
     ]
    }
   ],
   "source": [
    "\n",
    "print(\"Jaccard Similarity \\t | \\tCosine Similarity\")\n",
    "print(\"AB:\\t\", round(Jaccard_AB, 3), \"\\t\\t | \\t\", round(cos_sim_AB, 3))\n",
    "print(\"BC:\\t\", round(Jaccard_BC, 3), \"\\t\\t | \\t\", round(cos_sim_BC, 3))\n",
    "print(\"AC:\\t\", round(Jaccard_AC, 3), \"\\t\\t | \\t\", round(cos_sim_AC, 3))\n",
    "print(\"_\"*49)\n"
   ]
  },
  {
   "cell_type": "markdown",
   "metadata": {},
   "source": [
    "Evidently there is a large disimilarity between the Jaccard method and Cosine method of A, B and C. Each method is based on different parameters of the values, depending on length, dimensions, rare woprds, and term frequency. "
   ]
  }
 ],
 "metadata": {
  "kernelspec": {
   "display_name": "Python 3 (ipykernel)",
   "language": "python",
   "name": "python3"
  },
  "language_info": {
   "codemirror_mode": {
    "name": "ipython",
    "version": 3
   },
   "file_extension": ".py",
   "mimetype": "text/x-python",
   "name": "python",
   "nbconvert_exporter": "python",
   "pygments_lexer": "ipython3",
   "version": "3.7.0"
  },
  "toc": {
   "base_numbering": 1,
   "nav_menu": {},
   "number_sections": true,
   "sideBar": true,
   "skip_h1_title": false,
   "title_cell": "Table of Contents",
   "title_sidebar": "Contents",
   "toc_cell": false,
   "toc_position": {},
   "toc_section_display": true,
   "toc_window_display": false
  }
 },
 "nbformat": 4,
 "nbformat_minor": 2
}
