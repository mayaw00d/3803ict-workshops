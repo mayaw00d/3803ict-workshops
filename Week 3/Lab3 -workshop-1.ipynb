{
 "cells": [
  {
   "cell_type": "markdown",
   "metadata": {},
   "source": [
    "# 1. Classification"
   ]
  },
  {
   "cell_type": "code",
   "execution_count": 1,
   "metadata": {},
   "outputs": [],
   "source": [
    "# Import modules\n",
    "from sklearn import datasets\n",
    "from sklearn.model_selection import train_test_split\n",
    "from sklearn.metrics import classification_report\n",
    "from sklearn.metrics import confusion_matrix\n",
    "from sklearn.model_selection import cross_val_score\n",
    "from sklearn.neighbors import KNeighborsClassifier\n",
    "from sklearn.svm import SVC\n",
    "from sklearn.naive_bayes import GaussianNB\n",
    "from sklearn.linear_model import LinearRegression\n",
    "from sklearn.linear_model import LogisticRegression\n",
    "\n",
    "import seaborn as sns\n",
    "import numpy as np\n",
    "import matplotlib.pyplot as plt\n",
    "import pandas as pd\n",
    "\n",
    "# Load dataset\n",
    "digits = datasets.load_digits()"
   ]
  },
  {
   "cell_type": "code",
   "execution_count": 2,
   "metadata": {},
   "outputs": [],
   "source": [
    "# Create data and label arrays\n",
    "X = digits.data\n",
    "y = digits.target\n",
    "\n",
    "# Split into training and test set with 20% of data for testing\n",
    "X_train, X_test, y_train, y_test = train_test_split(X, y, test_size=0.2)"
   ]
  },
  {
   "cell_type": "code",
   "execution_count": 3,
   "metadata": {},
   "outputs": [
    {
     "data": {
      "text/plain": [
       "<matplotlib.image.AxesImage at 0x270c1150>"
      ]
     },
     "execution_count": 3,
     "metadata": {},
     "output_type": "execute_result"
    },
    {
     "data": {
      "image/png": "[encoded data removed]",
      "text/plain": [
       "<Figure size 432x288 with 1 Axes>"
      ]
     },
     "metadata": {
      "needs_background": "light"
     },
     "output_type": "display_data"
    }
   ],
   "source": [
    "plt.imshow(X[0].reshape((8, 8)), cmap='gray')"
   ]
  },
  {
   "cell_type": "markdown",
   "metadata": {},
   "source": [
    "# KNN"
   ]
  },
  {
   "cell_type": "code",
   "execution_count": 4,
   "metadata": {},
   "outputs": [
    {
     "data": {
      "text/plain": [
       "<matplotlib.legend.Legend at 0x26fc0f50>"
      ]
     },
     "execution_count": 4,
     "metadata": {},
     "output_type": "execute_result"
    },
    {
     "data": {
      "image/png": "[encoded data removed]",
      "text/plain": [
       "<Figure size 432x288 with 1 Axes>"
      ]
     },
     "metadata": {
      "needs_background": "light"
     },
     "output_type": "display_data"
    }
   ],
   "source": [
    "#kNN Classifier\n",
    "#define empty lists to store scores of knn\n",
    "number_neighbors = []\n",
    "testing_scores = []\n",
    "training_scores = []\n",
    "\n",
    "#for loop for 8 times as the number of neighbours\n",
    "for num in range (1, 8):\n",
    "    #initialise knn classifier as current neighbour number \n",
    "    kNN = KNeighborsClassifier(n_neighbors=num)\n",
    "    #fit classifier to training data\n",
    "    kNN.fit(X_train, y_train)\n",
    "    #calculate training and testing accuracy of model\n",
    "    train_score = kNN.score(X_train, y_train)\n",
    "    test_score = kNN.score(X_test, y_test)\n",
    "    \n",
    "    #append score and number to lists\n",
    "    number_neighbors.append(num)\n",
    "    training_scores.append(train_score)\n",
    "    testing_scores.append(test_score)\n",
    "\n",
    "#plot testing vs training scores/accuracy\n",
    "plt.plot(number_neighbors, testing_scores, label=\"Testing Accuracy\")\n",
    "plt.plot(number_neighbors, training_scores, label=\"Training Accuracy\")\n",
    "plt.title(\"k-NN: Varying Number of Neighbours\")\n",
    "plt.ylabel(\"Accuracy\")\n",
    "plt.xlabel(\"Number of Neighbours\")\n",
    "plt.legend()"
   ]
  },
  {
   "cell_type": "code",
   "execution_count": 5,
   "metadata": {},
   "outputs": [
    {
     "name": "stdout",
     "output_type": "stream",
     "text": [
      "For this training and test data split and accuracies, the following is the best to worst K number of neighbours based on variance and not highest test score:\n",
      "K =  3\n",
      "K =  1\n",
      "K =  2\n",
      "K =  4\n",
      "K =  5\n",
      "K =  7\n",
      "K =  6\n",
      "\n",
      "The best K value is: 3\n"
     ]
    }
   ],
   "source": [
    "#create dictionary for variance between test and training scores\n",
    "variance = {}\n",
    "for i in range(len(number_neighbors)):\n",
    "    #get test, train, and k number\n",
    "    num = number_neighbors[i]\n",
    "    test = testing_scores[i]\n",
    "    train = training_scores[i]\n",
    "    #set variance as absolute value between test and training\n",
    "    variance[num] = abs(test - train)\n",
    "\n",
    "#sort dictionary by value ascending\n",
    "sorted_variance = {k: v for k, v in sorted(variance.items(), key=lambda item: item[1])}\n",
    "\n",
    "print(\"For this training and test data split and accuracies, the following is the best to worst K number of neighbours based on variance and not highest test score:\")\n",
    "for k, score in sorted_variance.items():\n",
    "    print(\"K = \", k)\n",
    "\n",
    "best_k = next(iter(sorted_variance))\n",
    "print(\"\\nThe best K value is:\", best_k)"
   ]
  },
  {
   "cell_type": "markdown",
   "metadata": {},
   "source": [
    "For each time the program is run, the test and training data re-shuffles and will redo the training and testing. Therefore, the accuracy scores for each number of neighbours will change. The best K value will vary due to this. Although, to identify the best K value, it is ideal to avoid overfitting and underfitting data. Overfitted data occurs when training accuracy is high and test accuracy is low, as it performs well on the trained data but not testing. Overfitting tends to occur with lower k values. Underfitting is when both the training and testing accuracy is low, suggesting the module is too simple and cannot identify underlying patterns in the data. The ideal value is high test accuracy, and the accuracy of test and training scores being very close. A small variance in training and test data for a K value indicates a well generalised model. Stability is also important, where the testing accuracy is stable meaning the model is not overly sensitive to K variations. Overall, the best K value is where the testing and training accuracy is very close, and preferably higher.  "
   ]
  },
  {
   "cell_type": "markdown",
   "metadata": {},
   "source": [
    "# Kernels"
   ]
  },
  {
   "cell_type": "code",
   "execution_count": 6,
   "metadata": {},
   "outputs": [
    {
     "name": "stdout",
     "output_type": "stream",
     "text": [
      "linear\n",
      "              precision    recall  f1-score   support\n",
      "\n",
      "           0       1.00      1.00      1.00        32\n",
      "           1       0.98      0.98      0.98        41\n",
      "           2       1.00      1.00      1.00        45\n",
      "           3       0.97      1.00      0.99        37\n",
      "           4       0.98      1.00      0.99        40\n",
      "           5       1.00      1.00      1.00        34\n",
      "           6       1.00      1.00      1.00        27\n",
      "           7       1.00      1.00      1.00        37\n",
      "           8       1.00      0.94      0.97        36\n",
      "           9       1.00      1.00      1.00        31\n",
      "\n",
      "    accuracy                           0.99       360\n",
      "   macro avg       0.99      0.99      0.99       360\n",
      "weighted avg       0.99      0.99      0.99       360\n",
      "\n",
      "poly\n",
      "              precision    recall  f1-score   support\n",
      "\n",
      "           0       1.00      1.00      1.00        32\n",
      "           1       1.00      1.00      1.00        41\n",
      "           2       1.00      1.00      1.00        45\n",
      "           3       1.00      0.97      0.99        37\n",
      "           4       1.00      1.00      1.00        40\n",
      "           5       1.00      1.00      1.00        34\n",
      "           6       1.00      1.00      1.00        27\n",
      "           7       0.97      1.00      0.99        37\n",
      "           8       1.00      1.00      1.00        36\n",
      "           9       1.00      1.00      1.00        31\n",
      "\n",
      "    accuracy                           1.00       360\n",
      "   macro avg       1.00      1.00      1.00       360\n",
      "weighted avg       1.00      1.00      1.00       360\n",
      "\n",
      "rbf\n",
      "              precision    recall  f1-score   support\n",
      "\n",
      "           0       1.00      1.00      1.00        32\n",
      "           1       1.00      1.00      1.00        41\n",
      "           2       1.00      1.00      1.00        45\n",
      "           3       1.00      1.00      1.00        37\n",
      "           4       1.00      1.00      1.00        40\n",
      "           5       1.00      1.00      1.00        34\n",
      "           6       1.00      1.00      1.00        27\n",
      "           7       1.00      1.00      1.00        37\n",
      "           8       1.00      1.00      1.00        36\n",
      "           9       1.00      1.00      1.00        31\n",
      "\n",
      "    accuracy                           1.00       360\n",
      "   macro avg       1.00      1.00      1.00       360\n",
      "weighted avg       1.00      1.00      1.00       360\n",
      "\n",
      "sigmoid\n",
      "              precision    recall  f1-score   support\n",
      "\n",
      "           0       0.97      1.00      0.98        32\n",
      "           1       0.75      0.80      0.78        41\n",
      "           2       1.00      0.89      0.94        45\n",
      "           3       1.00      0.89      0.94        37\n",
      "           4       0.90      0.93      0.91        40\n",
      "           5       0.97      1.00      0.99        34\n",
      "           6       0.93      1.00      0.96        27\n",
      "           7       0.90      0.95      0.92        37\n",
      "           8       0.90      0.78      0.84        36\n",
      "           9       0.83      0.94      0.88        31\n",
      "\n",
      "    accuracy                           0.91       360\n",
      "   macro avg       0.92      0.92      0.91       360\n",
      "weighted avg       0.92      0.91      0.91       360\n",
      "\n"
     ]
    }
   ],
   "source": [
    "#list of types of SVM/SVC Classifier\n",
    "kernels = ['linear', 'poly', 'rbf', 'sigmoid']\n",
    "kernal_report = {}\n",
    "\n",
    "#iterate through each kernel of the support vector machine\n",
    "for kernel in kernels:\n",
    "    #set kernel\n",
    "    svm = SVC(kernel=kernel)\n",
    "    #fit model to training data\n",
    "    svm.fit(X_train, y_train)\n",
    "    #predict class from test data\n",
    "    y_pred = svm.predict(X_test)\n",
    "    #print kernel and classification model performance\n",
    "    print(kernel)\n",
    "    print(classification_report(y_test, y_pred))\n",
    "    #append to dictionary for kernal and kernal report results\n",
    "    report = classification_report(y_test, y_pred, output_dict=True)\n",
    "    kernal_report[kernel] = {\n",
    "        #store accuracy, macro average, and weighted average scores\n",
    "        \"Accuracy\": report['accuracy'],\n",
    "        \"Macro Avg.\": report['macro avg'],\n",
    "        \"Weighted Avg.\": report['weighted avg']\n",
    "    }"
   ]
  },
  {
   "cell_type": "code",
   "execution_count": 7,
   "metadata": {},
   "outputs": [
    {
     "name": "stdout",
     "output_type": "stream",
     "text": [
      "Kernel:  linear\n",
      "Accuracy\n",
      "0.9916666666666667\n",
      "Macro Avg.\n",
      "precision  :  0.9924903722721439\n",
      "recall  :  0.9920054200542004\n",
      "f1-score  :  0.9921359315180454\n",
      "support  :  360\n",
      "Weighted Avg.\n",
      "precision  :  0.9918075167593783\n",
      "recall  :  0.9916666666666667\n",
      "f1-score  :  0.9916229668822262\n",
      "support  :  360\n",
      "\n",
      "\n",
      "Kernel:  poly\n",
      "Accuracy\n",
      "0.9972222222222222\n",
      "Macro Avg.\n",
      "precision  :  0.9973684210526315\n",
      "recall  :  0.9972972972972972\n",
      "f1-score  :  0.997296803652968\n",
      "support  :  360\n",
      "Weighted Avg.\n",
      "precision  :  0.997295321637427\n",
      "recall  :  0.9972222222222222\n",
      "f1-score  :  0.9972217148655504\n",
      "support  :  360\n",
      "\n",
      "\n",
      "Kernel:  rbf\n",
      "Accuracy\n",
      "1.0\n",
      "Macro Avg.\n",
      "precision  :  1.0\n",
      "recall  :  1.0\n",
      "f1-score  :  1.0\n",
      "support  :  360\n",
      "Weighted Avg.\n",
      "precision  :  1.0\n",
      "recall  :  1.0\n",
      "f1-score  :  1.0\n",
      "support  :  360\n",
      "\n",
      "\n",
      "Kernel:  sigmoid\n",
      "Accuracy\n",
      "0.9111111111111111\n",
      "Macro Avg.\n",
      "precision  :  0.9153832180733344\n",
      "recall  :  0.9169866424252735\n",
      "f1-score  :  0.9144154199761377\n",
      "support  :  360\n",
      "Weighted Avg.\n",
      "precision  :  0.915142605533521\n",
      "recall  :  0.9111111111111111\n",
      "f1-score  :  0.9113298229895685\n",
      "support  :  360\n",
      "\n",
      "\n"
     ]
    }
   ],
   "source": [
    "#print the accuracy, macro average, and weighted average of each kernal\n",
    "for key, val in kernal_report.items():\n",
    "    print(\"Kernel: \", key)\n",
    "    for typ, score in val.items():\n",
    "        print(typ)\n",
    "        if isinstance(score, dict):\n",
    "            for x, y in score.items():\n",
    "                print(x, \" : \", y)\n",
    "        else:\n",
    "            print(score)\n",
    "    print(\"\\n\")\n"
   ]
  },
  {
   "cell_type": "code",
   "execution_count": 8,
   "metadata": {},
   "outputs": [
    {
     "name": "stdout",
     "output_type": "stream",
     "text": [
      "The best kernal(s) based on accuracy is from best to worst is: \n",
      "Kernel: rbf, Accuracy: 1.0\n",
      "Kernel: poly, Accuracy: 0.9972\n",
      "Kernel: linear, Accuracy: 0.9917\n",
      "Kernel: sigmoid, Accuracy: 0.9111\n",
      "\n",
      "The best kernal is:  rbf\n"
     ]
    }
   ],
   "source": [
    "#sort kernal based on accuracy from best to worst performing\n",
    "sorted_kernal_report = sorted(kernal_report.items(), key=lambda x: x[1]['Accuracy'], reverse=True)\n",
    "\n",
    "#print best to worst kernals\n",
    "print(\"The best kernal(s) based on accuracy is from best to worst is: \")\n",
    "for kernel, metrics in sorted_kernal_report:\n",
    "    print(f\"Kernel: {kernel}, Accuracy: {round(metrics['Accuracy'], 4)}\")\n",
    "\n",
    "best_kernel = sorted_kernal_report[0][0]\n",
    "print(\"\\nThe best kernal is: \", best_kernel)"
   ]
  },
  {
   "cell_type": "markdown",
   "metadata": {},
   "source": [
    "As previously mentioned, the accuracy of the model will vary as each run of the program will shuffle the data and reset the training and test models. Therefore, the kernels have been ordered from best accuracy to worst accuracy, based on accuracy alone as shown above. Therefore, the best kernal should be used and if there are multiple with identical scores, any of these kernals with highest scores should be used."
   ]
  },
  {
   "cell_type": "markdown",
   "metadata": {},
   "source": [
    "# Naive Bayes"
   ]
  },
  {
   "cell_type": "code",
   "execution_count": 9,
   "metadata": {},
   "outputs": [
    {
     "name": "stdout",
     "output_type": "stream",
     "text": [
      "Training Score:  0.8169798190675017\n",
      "Testing Score:  0.7972222222222223\n"
     ]
    },
    {
     "data": {
      "text/plain": [
       "Text(33.0, 0.5, 'True label')"
      ]
     },
     "execution_count": 9,
     "metadata": {},
     "output_type": "execute_result"
    },
    {
     "data": {
      "image/png": "[encoded data removed]",
      "text/plain": [
       "<Figure size 432x288 with 2 Axes>"
      ]
     },
     "metadata": {
      "needs_background": "light"
     },
     "output_type": "display_data"
    }
   ],
   "source": [
    "# Naive Bayes\n",
    "#initialise model\n",
    "bayes = GaussianNB()\n",
    "#fit training data to model\n",
    "bayes.fit(X_train, y_train)\n",
    "#predict using model with test data\n",
    "y_pred = bayes.predict(X_test)\n",
    "\n",
    "#find accuracy of model with test and training set\n",
    "bayes_score_test = bayes.score(X_test, y_test)\n",
    "bayes_score_train = bayes.score(X_train, y_train)\n",
    "print(\"Training Score: \", bayes_score_train)\n",
    "print(\"Testing Score: \", bayes_score_test)\n",
    "\n",
    "#generate confusion matrix of performance of test data model\n",
    "conf_matrix = confusion_matrix(y_test, y_pred)\n",
    "#set heatmap of confusion matrix\n",
    "ax = sns.heatmap(conf_matrix, annot=True)\n",
    "ax.set_xlabel(\"Predicted label\")\n",
    "ax.set_ylabel(\"True label\")"
   ]
  },
  {
   "cell_type": "code",
   "execution_count": 10,
   "metadata": {},
   "outputs": [
    {
     "data": {
      "image/png": "[encoded data removed]",
      "text/plain": [
       "<Figure size 432x288 with 1 Axes>"
      ]
     },
     "metadata": {
      "needs_background": "light"
     },
     "output_type": "display_data"
    }
   ],
   "source": [
    "# Compare the accuracy of different classifiers in the same plot.\n",
    "# scores = []\n",
    "# labels = [\"KNN\", \"SVM\", \"Bayes\"]\n",
    "classif_scores = {\n",
    "    \"KNN\" : None,\n",
    "    \"SVM\" : None,\n",
    "    \"Bayes\" : None\n",
    "}\n",
    "#set classifiersd based on previously found best K for kNN and best kernal for SVC\n",
    "classifiers = {\n",
    "    \"KNN\" : KNeighborsClassifier(n_neighbors=best_k), \n",
    "    \"SVM\" : SVC(kernel=best_kernel), \n",
    "    \"Bayes\" : GaussianNB()\n",
    "}\n",
    "\n",
    "#for each classifier in the list of above classifier\n",
    "for name, classifier in classifiers.items():\n",
    "    #fit training data\n",
    "    classifier.fit(X_train, y_train)\n",
    "    #append classifier accuracy score to scores lift\n",
    "    classif_scores[name] = classifier.score(X_test, y_test)\n",
    "    #scores.append(classifier.score(X_test, y_test))\n",
    "\n",
    "#plot accuracy of each classifier in same plot\n",
    "fig = plt.figure()\n",
    "ax = fig.add_axes([0,0,1,1])\n",
    "ax.bar(classif_scores.keys(), classif_scores.values())\n",
    "ax.set_xlabel(\"Classifier\")\n",
    "ax.set_ylabel(\"Accuracy\")\n",
    "ax.set_title(\"Comparison of Classifier Accuracies\")\n",
    "plt.show()"
   ]
  },
  {
   "cell_type": "code",
   "execution_count": 11,
   "metadata": {},
   "outputs": [
    {
     "name": "stdout",
     "output_type": "stream",
     "text": [
      "The best classifier based on accuracy is:  SVM with 100.0 % accuracy score.\n"
     ]
    }
   ],
   "source": [
    "sorted_classif_scores = dict(sorted(classif_scores.items(), key=lambda item: item[1], reverse=True))\n",
    "best_classifier = next(iter(sorted_classif_scores))\n",
    "\n",
    "print(\"The best classifier based on accuracy is: \", best_classifier, \"with\", round(float(classif_scores[best_classifier])*100, 4), \"% accuracy score.\")"
   ]
  },
  {
   "cell_type": "markdown",
   "metadata": {},
   "source": [
    "# 2. Regression"
   ]
  },
  {
   "cell_type": "code",
   "execution_count": 12,
   "metadata": {},
   "outputs": [
    {
     "data": {
      "text/html": [
       "<div>\n",
       "<style scoped>\n",
       "    .dataframe tbody tr th:only-of-type {\n",
       "        vertical-align: middle;\n",
       "    }\n",
       "\n",
       "    .dataframe tbody tr th {\n",
       "        vertical-align: top;\n",
       "    }\n",
       "\n",
       "    .dataframe thead th {\n",
       "        text-align: right;\n",
       "    }\n",
       "</style>\n",
       "<table border=\"1\" class=\"dataframe\">\n",
       "  <thead>\n",
       "    <tr style=\"text-align: right;\">\n",
       "      <th></th>\n",
       "      <th>population</th>\n",
       "      <th>fertility</th>\n",
       "      <th>HIV</th>\n",
       "      <th>CO2</th>\n",
       "      <th>BMI_male</th>\n",
       "      <th>GDP</th>\n",
       "      <th>BMI_female</th>\n",
       "      <th>life</th>\n",
       "      <th>child_mortality</th>\n",
       "      <th>Region</th>\n",
       "    </tr>\n",
       "  </thead>\n",
       "  <tbody>\n",
       "    <tr>\n",
       "      <th>0</th>\n",
       "      <td>34811059</td>\n",
       "      <td>2.73</td>\n",
       "      <td>0.1</td>\n",
       "      <td>3.328945</td>\n",
       "      <td>24.59620</td>\n",
       "      <td>12314</td>\n",
       "      <td>129.9049</td>\n",
       "      <td>75.3</td>\n",
       "      <td>29.5</td>\n",
       "      <td>Middle East &amp; North Africa</td>\n",
       "    </tr>\n",
       "    <tr>\n",
       "      <th>1</th>\n",
       "      <td>19842251</td>\n",
       "      <td>6.43</td>\n",
       "      <td>2.0</td>\n",
       "      <td>1.474353</td>\n",
       "      <td>22.25083</td>\n",
       "      <td>7103</td>\n",
       "      <td>130.1247</td>\n",
       "      <td>58.3</td>\n",
       "      <td>192.0</td>\n",
       "      <td>Sub-Saharan Africa</td>\n",
       "    </tr>\n",
       "    <tr>\n",
       "      <th>2</th>\n",
       "      <td>40381860</td>\n",
       "      <td>2.24</td>\n",
       "      <td>0.5</td>\n",
       "      <td>4.785170</td>\n",
       "      <td>27.50170</td>\n",
       "      <td>14646</td>\n",
       "      <td>118.8915</td>\n",
       "      <td>75.5</td>\n",
       "      <td>15.4</td>\n",
       "      <td>America</td>\n",
       "    </tr>\n",
       "    <tr>\n",
       "      <th>3</th>\n",
       "      <td>2975029</td>\n",
       "      <td>1.40</td>\n",
       "      <td>0.1</td>\n",
       "      <td>1.804106</td>\n",
       "      <td>25.35542</td>\n",
       "      <td>7383</td>\n",
       "      <td>132.8108</td>\n",
       "      <td>72.5</td>\n",
       "      <td>20.0</td>\n",
       "      <td>Europe &amp; Central Asia</td>\n",
       "    </tr>\n",
       "    <tr>\n",
       "      <th>4</th>\n",
       "      <td>21370348</td>\n",
       "      <td>1.96</td>\n",
       "      <td>0.1</td>\n",
       "      <td>18.016313</td>\n",
       "      <td>27.56373</td>\n",
       "      <td>41312</td>\n",
       "      <td>117.3755</td>\n",
       "      <td>81.5</td>\n",
       "      <td>5.2</td>\n",
       "      <td>East Asia &amp; Pacific</td>\n",
       "    </tr>\n",
       "  </tbody>\n",
       "</table>\n",
       "</div>"
      ],
      "text/plain": [
       "   population  fertility  HIV        CO2  BMI_male    GDP  BMI_female  life  \\\n",
       "0    34811059       2.73  0.1   3.328945  24.59620  12314    129.9049  75.3   \n",
       "1    19842251       6.43  2.0   1.474353  22.25083   7103    130.1247  58.3   \n",
       "2    40381860       2.24  0.5   4.785170  27.50170  14646    118.8915  75.5   \n",
       "3     2975029       1.40  0.1   1.804106  25.35542   7383    132.8108  72.5   \n",
       "4    21370348       1.96  0.1  18.016313  27.56373  41312    117.3755  81.5   \n",
       "\n",
       "   child_mortality                      Region  \n",
       "0             29.5  Middle East & North Africa  \n",
       "1            192.0          Sub-Saharan Africa  \n",
       "2             15.4                     America  \n",
       "3             20.0       Europe & Central Asia  \n",
       "4              5.2         East Asia & Pacific  "
      ]
     },
     "execution_count": 12,
     "metadata": {},
     "output_type": "execute_result"
    }
   ],
   "source": [
    "# Load gapminder\n",
    "df = pd.read_csv(\"gapminder.csv\")\n",
    "df.head()"
   ]
  },
  {
   "cell_type": "code",
   "execution_count": 13,
   "metadata": {},
   "outputs": [
    {
     "data": {
      "text/plain": [
       "<AxesSubplot:>"
      ]
     },
     "execution_count": 13,
     "metadata": {},
     "output_type": "execute_result"
    },
    {
     "data": {
      "image/png": "[encoded data removed]",
      "text/plain": [
       "<Figure size 432x288 with 2 Axes>"
      ]
     },
     "metadata": {
      "needs_background": "light"
     },
     "output_type": "display_data"
    }
   ],
   "source": [
    "# Heatmap\n",
    "sns.heatmap(df.corr(), cmap=\"RdYlGn\")"
   ]
  },
  {
   "cell_type": "code",
   "execution_count": 14,
   "metadata": {},
   "outputs": [
    {
     "name": "stderr",
     "output_type": "stream",
     "text": [
      "c:\\Users\\61406\\AppData\\Local\\Programs\\Python\\Python36-32\\lib\\site-packages\\ipykernel_launcher.py:8: FutureWarning: Support for multi-dimensional indexing (e.g. `obj[:, None]`) is deprecated and will be removed in a future version.  Convert to a numpy array before indexing instead.\n",
      "  \n",
      "c:\\Users\\61406\\AppData\\Local\\Programs\\Python\\Python36-32\\lib\\site-packages\\ipykernel_launcher.py:9: FutureWarning: Support for multi-dimensional indexing (e.g. `obj[:, None]`) is deprecated and will be removed in a future version.  Convert to a numpy array before indexing instead.\n",
      "  if __name__ == '__main__':\n",
      "c:\\Users\\61406\\AppData\\Local\\Programs\\Python\\Python36-32\\lib\\site-packages\\ipykernel_launcher.py:12: FutureWarning: Support for multi-dimensional indexing (e.g. `obj[:, None]`) is deprecated and will be removed in a future version.  Convert to a numpy array before indexing instead.\n",
      "  if sys.path[0] == '':\n"
     ]
    },
    {
     "data": {
      "text/plain": [
       "Text(0, 0.5, 'Life Expectency')"
      ]
     },
     "execution_count": 14,
     "metadata": {},
     "output_type": "execute_result"
    },
    {
     "data": {
      "image/png": "[encoded data removed]",
      "text/plain": [
       "<Figure size 432x288 with 1 Axes>"
      ]
     },
     "metadata": {
      "needs_background": "light"
     },
     "output_type": "display_data"
    }
   ],
   "source": [
    "#linear Regression of ferticility vs life expectancy\n",
    "x = df[\"fertility\"]\n",
    "y = df[\"life\"]\n",
    "\n",
    "#define regression model\n",
    "regression = LinearRegression()\n",
    "#fit model top data\n",
    "regression.fit(x[:, None], y)\n",
    "one_feat_score = regression.score(x[:, None], y)\n",
    "\n",
    "#plot regression model\n",
    "fig, ax = plt.plot(x, y, 'bo', x, regression.predict(x[:, None]), \":\")\n",
    "plt.xlabel(\"Fertility\")\n",
    "plt.ylabel(\"Life Expectency\")"
   ]
  },
  {
   "cell_type": "code",
   "execution_count": 15,
   "metadata": {},
   "outputs": [
    {
     "name": "stdout",
     "output_type": "stream",
     "text": [
      "One Feature Score:  0.6192442167740038\n",
      "All Feature Score:  0.8974995317332959\n"
     ]
    }
   ],
   "source": [
    "# Linear regression on all\n",
    "X = df[[\"fertility\", \"HIV\", \"CO2\", \"BMI_male\", \"GDP\", \"BMI_female\", \"child_mortality\"]]\n",
    "y = df[\"life\"]\n",
    "\n",
    "regression_all = LinearRegression()\n",
    "regression_all.fit(X,y)\n",
    "all_feat_score = regression_all.score(X,y)\n",
    "\n",
    "print(\"One Feature Score: \", one_feat_score)\n",
    "print(\"All Feature Score: \", all_feat_score)"
   ]
  },
  {
   "cell_type": "markdown",
   "metadata": {},
   "source": [
    "Evidently, the model score is better when using all features. This can be for several reasons within the data. "
   ]
  },
  {
   "cell_type": "code",
   "execution_count": 16,
   "metadata": {},
   "outputs": [
    {
     "name": "stdout",
     "output_type": "stream",
     "text": [
      "[0.71001079 0.75007717 0.55271526 0.547501   0.52410561]\n",
      "[0.81621881 0.8322471  0.90868335 0.81325568 0.94404223]\n"
     ]
    },
    {
     "name": "stderr",
     "output_type": "stream",
     "text": [
      "c:\\Users\\61406\\AppData\\Local\\Programs\\Python\\Python36-32\\lib\\site-packages\\ipykernel_launcher.py:2: FutureWarning: Support for multi-dimensional indexing (e.g. `obj[:, None]`) is deprecated and will be removed in a future version.  Convert to a numpy array before indexing instead.\n",
      "  \n"
     ]
    }
   ],
   "source": [
    "#determine 5-fold cross validation score\n",
    "print(cross_val_score(regression, x[:, None], y, cv=5))\n",
    "print(cross_val_score(regression_all, X, y, cv=5))"
   ]
  },
  {
   "cell_type": "markdown",
   "metadata": {},
   "source": [
    "Evidently, for the 5-fold cross validation score, the regression model with all features is higher in each fold score. The cross validation score for each fold is noticably high for all features, with [0.81621881 0.8322471  0.90868335 0.81325568 0.94404223] and the single feature scores being [0.71001079 0.75007717 0.55271526 0.547501   0.52410561]."
   ]
  },
  {
   "cell_type": "markdown",
   "metadata": {},
   "source": [
    "# Logistic Regression"
   ]
  },
  {
   "cell_type": "code",
   "execution_count": 17,
   "metadata": {},
   "outputs": [
    {
     "name": "stdout",
     "output_type": "stream",
     "text": [
      "(284807, 31)\n"
     ]
    },
    {
     "data": {
      "text/html": [
       "<div>\n",
       "<style scoped>\n",
       "    .dataframe tbody tr th:only-of-type {\n",
       "        vertical-align: middle;\n",
       "    }\n",
       "\n",
       "    .dataframe tbody tr th {\n",
       "        vertical-align: top;\n",
       "    }\n",
       "\n",
       "    .dataframe thead th {\n",
       "        text-align: right;\n",
       "    }\n",
       "</style>\n",
       "<table border=\"1\" class=\"dataframe\">\n",
       "  <thead>\n",
       "    <tr style=\"text-align: right;\">\n",
       "      <th></th>\n",
       "      <th>Time</th>\n",
       "      <th>V1</th>\n",
       "      <th>V2</th>\n",
       "      <th>V3</th>\n",
       "      <th>V4</th>\n",
       "      <th>V5</th>\n",
       "      <th>V6</th>\n",
       "      <th>V7</th>\n",
       "      <th>V8</th>\n",
       "      <th>V9</th>\n",
       "      <th>...</th>\n",
       "      <th>V21</th>\n",
       "      <th>V22</th>\n",
       "      <th>V23</th>\n",
       "      <th>V24</th>\n",
       "      <th>V25</th>\n",
       "      <th>V26</th>\n",
       "      <th>V27</th>\n",
       "      <th>V28</th>\n",
       "      <th>Amount</th>\n",
       "      <th>Class</th>\n",
       "    </tr>\n",
       "  </thead>\n",
       "  <tbody>\n",
       "    <tr>\n",
       "      <th>0</th>\n",
       "      <td>0.0</td>\n",
       "      <td>-1.359807</td>\n",
       "      <td>-0.072781</td>\n",
       "      <td>2.536347</td>\n",
       "      <td>1.378155</td>\n",
       "      <td>-0.338321</td>\n",
       "      <td>0.462388</td>\n",
       "      <td>0.239599</td>\n",
       "      <td>0.098698</td>\n",
       "      <td>0.363787</td>\n",
       "      <td>...</td>\n",
       "      <td>-0.018307</td>\n",
       "      <td>0.277838</td>\n",
       "      <td>-0.110474</td>\n",
       "      <td>0.066928</td>\n",
       "      <td>0.128539</td>\n",
       "      <td>-0.189115</td>\n",
       "      <td>0.133558</td>\n",
       "      <td>-0.021053</td>\n",
       "      <td>149.62</td>\n",
       "      <td>0</td>\n",
       "    </tr>\n",
       "    <tr>\n",
       "      <th>1</th>\n",
       "      <td>0.0</td>\n",
       "      <td>1.191857</td>\n",
       "      <td>0.266151</td>\n",
       "      <td>0.166480</td>\n",
       "      <td>0.448154</td>\n",
       "      <td>0.060018</td>\n",
       "      <td>-0.082361</td>\n",
       "      <td>-0.078803</td>\n",
       "      <td>0.085102</td>\n",
       "      <td>-0.255425</td>\n",
       "      <td>...</td>\n",
       "      <td>-0.225775</td>\n",
       "      <td>-0.638672</td>\n",
       "      <td>0.101288</td>\n",
       "      <td>-0.339846</td>\n",
       "      <td>0.167170</td>\n",
       "      <td>0.125895</td>\n",
       "      <td>-0.008983</td>\n",
       "      <td>0.014724</td>\n",
       "      <td>2.69</td>\n",
       "      <td>0</td>\n",
       "    </tr>\n",
       "    <tr>\n",
       "      <th>2</th>\n",
       "      <td>1.0</td>\n",
       "      <td>-1.358354</td>\n",
       "      <td>-1.340163</td>\n",
       "      <td>1.773209</td>\n",
       "      <td>0.379780</td>\n",
       "      <td>-0.503198</td>\n",
       "      <td>1.800499</td>\n",
       "      <td>0.791461</td>\n",
       "      <td>0.247676</td>\n",
       "      <td>-1.514654</td>\n",
       "      <td>...</td>\n",
       "      <td>0.247998</td>\n",
       "      <td>0.771679</td>\n",
       "      <td>0.909412</td>\n",
       "      <td>-0.689281</td>\n",
       "      <td>-0.327642</td>\n",
       "      <td>-0.139097</td>\n",
       "      <td>-0.055353</td>\n",
       "      <td>-0.059752</td>\n",
       "      <td>378.66</td>\n",
       "      <td>0</td>\n",
       "    </tr>\n",
       "    <tr>\n",
       "      <th>3</th>\n",
       "      <td>1.0</td>\n",
       "      <td>-0.966272</td>\n",
       "      <td>-0.185226</td>\n",
       "      <td>1.792993</td>\n",
       "      <td>-0.863291</td>\n",
       "      <td>-0.010309</td>\n",
       "      <td>1.247203</td>\n",
       "      <td>0.237609</td>\n",
       "      <td>0.377436</td>\n",
       "      <td>-1.387024</td>\n",
       "      <td>...</td>\n",
       "      <td>-0.108300</td>\n",
       "      <td>0.005274</td>\n",
       "      <td>-0.190321</td>\n",
       "      <td>-1.175575</td>\n",
       "      <td>0.647376</td>\n",
       "      <td>-0.221929</td>\n",
       "      <td>0.062723</td>\n",
       "      <td>0.061458</td>\n",
       "      <td>123.50</td>\n",
       "      <td>0</td>\n",
       "    </tr>\n",
       "    <tr>\n",
       "      <th>4</th>\n",
       "      <td>2.0</td>\n",
       "      <td>-1.158233</td>\n",
       "      <td>0.877737</td>\n",
       "      <td>1.548718</td>\n",
       "      <td>0.403034</td>\n",
       "      <td>-0.407193</td>\n",
       "      <td>0.095921</td>\n",
       "      <td>0.592941</td>\n",
       "      <td>-0.270533</td>\n",
       "      <td>0.817739</td>\n",
       "      <td>...</td>\n",
       "      <td>-0.009431</td>\n",
       "      <td>0.798278</td>\n",
       "      <td>-0.137458</td>\n",
       "      <td>0.141267</td>\n",
       "      <td>-0.206010</td>\n",
       "      <td>0.502292</td>\n",
       "      <td>0.219422</td>\n",
       "      <td>0.215153</td>\n",
       "      <td>69.99</td>\n",
       "      <td>0</td>\n",
       "    </tr>\n",
       "  </tbody>\n",
       "</table>\n",
       "<p>5 rows × 31 columns</p>\n",
       "</div>"
      ],
      "text/plain": [
       "   Time        V1        V2        V3        V4        V5        V6        V7  \\\n",
       "0   0.0 -1.359807 -0.072781  2.536347  1.378155 -0.338321  0.462388  0.239599   \n",
       "1   0.0  1.191857  0.266151  0.166480  0.448154  0.060018 -0.082361 -0.078803   \n",
       "2   1.0 -1.358354 -1.340163  1.773209  0.379780 -0.503198  1.800499  0.791461   \n",
       "3   1.0 -0.966272 -0.185226  1.792993 -0.863291 -0.010309  1.247203  0.237609   \n",
       "4   2.0 -1.158233  0.877737  1.548718  0.403034 -0.407193  0.095921  0.592941   \n",
       "\n",
       "         V8        V9  ...       V21       V22       V23       V24       V25  \\\n",
       "0  0.098698  0.363787  ... -0.018307  0.277838 -0.110474  0.066928  0.128539   \n",
       "1  0.085102 -0.255425  ... -0.225775 -0.638672  0.101288 -0.339846  0.167170   \n",
       "2  0.247676 -1.514654  ...  0.247998  0.771679  0.909412 -0.689281 -0.327642   \n",
       "3  0.377436 -1.387024  ... -0.108300  0.005274 -0.190321 -1.175575  0.647376   \n",
       "4 -0.270533  0.817739  ... -0.009431  0.798278 -0.137458  0.141267 -0.206010   \n",
       "\n",
       "        V26       V27       V28  Amount  Class  \n",
       "0 -0.189115  0.133558 -0.021053  149.62      0  \n",
       "1  0.125895 -0.008983  0.014724    2.69      0  \n",
       "2 -0.139097 -0.055353 -0.059752  378.66      0  \n",
       "3 -0.221929  0.062723  0.061458  123.50      0  \n",
       "4  0.502292  0.219422  0.215153   69.99      0  \n",
       "\n",
       "[5 rows x 31 columns]"
      ]
     },
     "execution_count": 17,
     "metadata": {},
     "output_type": "execute_result"
    }
   ],
   "source": [
    "# Load creditcard\n",
    "df = pd.read_csv(\"creditcard.csv\")\n",
    "print(df.shape)\n",
    "df.head()"
   ]
  },
  {
   "cell_type": "markdown",
   "metadata": {},
   "source": []
  },
  {
   "cell_type": "code",
   "execution_count": 18,
   "metadata": {},
   "outputs": [
    {
     "data": {
      "text/plain": [
       "<matplotlib.legend.Legend at 0x29536190>"
      ]
     },
     "execution_count": 18,
     "metadata": {},
     "output_type": "execute_result"
    },
    {
     "data": {
      "image/png": "[encoded data removed]",
      "text/plain": [
       "<Figure size 432x288 with 1 Axes>"
      ]
     },
     "metadata": {
      "needs_background": "light"
     },
     "output_type": "display_data"
    }
   ],
   "source": [
    "#class and amount comparison\n",
    "#get frauds and non frauds data\n",
    "frauds = df.loc[df['Class'] == 1]\n",
    "non_frauds = df.loc[df['Class'] == 0]\n",
    "#plot amounts column against class column for frauds and non frauds\n",
    "plt.plot(frauds.Amount, frauds.Class, 'o', color=\"orange\", label=\"Frauds\")\n",
    "plt.plot(non_frauds.Amount, non_frauds.Class, 'bo', label=\"Normal\")\n",
    "plt.xlabel(\"Amount\")\n",
    "plt.ylabel(\"Class\")\n",
    "plt.legend()"
   ]
  },
  {
   "cell_type": "markdown",
   "metadata": {},
   "source": [
    "As seen in the plot, all the fraud cases occur at low amounts (orange plot) and the non-fraud amounts incur higher charges (blue plot). This reflects a reasonable assumption that frauds will have lower amounts for safety, whereas non-frauds are not cautious with the amounts."
   ]
  },
  {
   "cell_type": "code",
   "execution_count": 19,
   "metadata": {},
   "outputs": [
    {
     "name": "stderr",
     "output_type": "stream",
     "text": [
      "c:\\Users\\61406\\AppData\\Local\\Programs\\Python\\Python36-32\\lib\\site-packages\\sklearn\\linear_model\\_logistic.py:765: ConvergenceWarning: lbfgs failed to converge (status=1):\n",
      "STOP: TOTAL NO. of ITERATIONS REACHED LIMIT.\n",
      "\n",
      "Increase the number of iterations (max_iter) or scale the data as shown in:\n",
      "    https://scikit-learn.org/stable/modules/preprocessing.html\n",
      "Please also refer to the documentation for alternative solver options:\n",
      "    https://scikit-learn.org/stable/modules/linear_model.html#logistic-regression\n",
      "  extra_warning_msg=_LOGISTIC_SOLVER_CONVERGENCE_MSG)\n"
     ]
    },
    {
     "data": {
      "text/plain": [
       "Text(33.0, 0.5, 'True label')"
      ]
     },
     "execution_count": 19,
     "metadata": {},
     "output_type": "execute_result"
    },
    {
     "data": {
      "image/png": "[encoded data removed]",
      "text/plain": [
       "<Figure size 432x288 with 2 Axes>"
      ]
     },
     "metadata": {
      "needs_background": "light"
     },
     "output_type": "display_data"
    }
   ],
   "source": [
    "# Logistic Regression\n",
    "X = df.drop(\"Class\", axis=1)\n",
    "y = df.Class\n",
    "\n",
    "#set logistic regression\n",
    "log_regression = LogisticRegression()\n",
    "#fit data to model\n",
    "log_regression.fit(X, y)\n",
    "#predict model\n",
    "y_pred = log_regression.predict(X)\n",
    "#define confusion matrix from true data to predicted data\n",
    "conf_matrix = confusion_matrix(y, y_pred)\n",
    "\n",
    "#define heatmap to show predicted and true labels\n",
    "ax = sns.heatmap(conf_matrix, annot=True, fmt='g')\n",
    "ax.set_xlabel(\"Predicted label\")\n",
    "ax.set_ylabel(\"True label\")"
   ]
  },
  {
   "cell_type": "code",
   "execution_count": null,
   "metadata": {},
   "outputs": [],
   "source": []
  }
 ],
 "metadata": {
  "kernelspec": {
   "display_name": "Python 3",
   "language": "python",
   "name": "python3"
  },
  "language_info": {
   "codemirror_mode": {
    "name": "ipython",
    "version": 3
   },
   "file_extension": ".py",
   "mimetype": "text/x-python",
   "name": "python",
   "nbconvert_exporter": "python",
   "pygments_lexer": "ipython3",
   "version": "3.6.2"
  }
 },
 "nbformat": 4,
 "nbformat_minor": 2
}
