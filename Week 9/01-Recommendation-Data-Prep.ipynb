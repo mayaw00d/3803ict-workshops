{
 "cells": [
  {
   "cell_type": "markdown",
   "metadata": {},
   "source": [
    "# Recommendation - Data Preparation 🎬"
   ]
  },
  {
   "cell_type": "markdown",
   "metadata": {},
   "source": [
    "---"
   ]
  },
  {
   "cell_type": "markdown",
   "metadata": {},
   "source": [
    "<img src=\"https://cdn-images-1.medium.com/max/1200/0*ePGWILY6GyplT-nn\" />"
   ]
  },
  {
   "cell_type": "markdown",
   "metadata": {},
   "source": [
    "---"
   ]
  },
  {
   "cell_type": "markdown",
   "metadata": {},
   "source": [
    "In the next few challenges, you will build a powerful **movie recommender**.\n",
    "\n",
    "We will use the open-source library [LightFM](https://github.com/lyst/lightfm) which provides easy python implementation of **hybrid** recommendation engines.\n",
    "\n",
    "In this first part, we will prepare the data in order to train efficiently of the model.\n",
    "\n",
    "We let you load the data `movies` and `ratings` downloaded from the **small** [movielens dataset](https://grouplens.org/datasets/movielens/).\n",
    "\n"
   ]
  },
  {
   "cell_type": "code",
   "execution_count": 1,
   "metadata": {},
   "outputs": [],
   "source": [
    "import pandas as pd\n",
    "\n",
    "### TODO: Load the movies and ratings datasets\n",
    "movies = pd.read_csv(\"./ml-latest-small/movies.csv\")\n",
    "ratings = pd.read_csv(\"./ml-latest-small/ratings.csv\")"
   ]
  },
  {
   "cell_type": "code",
   "execution_count": 2,
   "metadata": {},
   "outputs": [
    {
     "data": {
      "text/html": [
       "<div>\n",
       "<style scoped>\n",
       "    .dataframe tbody tr th:only-of-type {\n",
       "        vertical-align: middle;\n",
       "    }\n",
       "\n",
       "    .dataframe tbody tr th {\n",
       "        vertical-align: top;\n",
       "    }\n",
       "\n",
       "    .dataframe thead th {\n",
       "        text-align: right;\n",
       "    }\n",
       "</style>\n",
       "<table border=\"1\" class=\"dataframe\">\n",
       "  <thead>\n",
       "    <tr style=\"text-align: right;\">\n",
       "      <th></th>\n",
       "      <th>movieId</th>\n",
       "      <th>title</th>\n",
       "      <th>genres</th>\n",
       "    </tr>\n",
       "  </thead>\n",
       "  <tbody>\n",
       "    <tr>\n",
       "      <th>0</th>\n",
       "      <td>1</td>\n",
       "      <td>Toy Story (1995)</td>\n",
       "      <td>Adventure|Animation|Children|Comedy|Fantasy</td>\n",
       "    </tr>\n",
       "    <tr>\n",
       "      <th>1</th>\n",
       "      <td>2</td>\n",
       "      <td>Jumanji (1995)</td>\n",
       "      <td>Adventure|Children|Fantasy</td>\n",
       "    </tr>\n",
       "    <tr>\n",
       "      <th>2</th>\n",
       "      <td>3</td>\n",
       "      <td>Grumpier Old Men (1995)</td>\n",
       "      <td>Comedy|Romance</td>\n",
       "    </tr>\n",
       "    <tr>\n",
       "      <th>3</th>\n",
       "      <td>4</td>\n",
       "      <td>Waiting to Exhale (1995)</td>\n",
       "      <td>Comedy|Drama|Romance</td>\n",
       "    </tr>\n",
       "    <tr>\n",
       "      <th>4</th>\n",
       "      <td>5</td>\n",
       "      <td>Father of the Bride Part II (1995)</td>\n",
       "      <td>Comedy</td>\n",
       "    </tr>\n",
       "  </tbody>\n",
       "</table>\n",
       "</div>"
      ],
      "text/plain": [
       "   movieId                               title  \\\n",
       "0        1                    Toy Story (1995)   \n",
       "1        2                      Jumanji (1995)   \n",
       "2        3             Grumpier Old Men (1995)   \n",
       "3        4            Waiting to Exhale (1995)   \n",
       "4        5  Father of the Bride Part II (1995)   \n",
       "\n",
       "                                        genres  \n",
       "0  Adventure|Animation|Children|Comedy|Fantasy  \n",
       "1                   Adventure|Children|Fantasy  \n",
       "2                               Comedy|Romance  \n",
       "3                         Comedy|Drama|Romance  \n",
       "4                                       Comedy  "
      ]
     },
     "execution_count": 2,
     "metadata": {},
     "output_type": "execute_result"
    }
   ],
   "source": [
    "movies.head()"
   ]
  },
  {
   "cell_type": "code",
   "execution_count": 3,
   "metadata": {},
   "outputs": [
    {
     "data": {
      "text/html": [
       "<div>\n",
       "<style scoped>\n",
       "    .dataframe tbody tr th:only-of-type {\n",
       "        vertical-align: middle;\n",
       "    }\n",
       "\n",
       "    .dataframe tbody tr th {\n",
       "        vertical-align: top;\n",
       "    }\n",
       "\n",
       "    .dataframe thead th {\n",
       "        text-align: right;\n",
       "    }\n",
       "</style>\n",
       "<table border=\"1\" class=\"dataframe\">\n",
       "  <thead>\n",
       "    <tr style=\"text-align: right;\">\n",
       "      <th></th>\n",
       "      <th>userId</th>\n",
       "      <th>movieId</th>\n",
       "      <th>rating</th>\n",
       "      <th>timestamp</th>\n",
       "    </tr>\n",
       "  </thead>\n",
       "  <tbody>\n",
       "    <tr>\n",
       "      <th>0</th>\n",
       "      <td>1</td>\n",
       "      <td>1</td>\n",
       "      <td>4.0</td>\n",
       "      <td>964982703</td>\n",
       "    </tr>\n",
       "    <tr>\n",
       "      <th>1</th>\n",
       "      <td>1</td>\n",
       "      <td>3</td>\n",
       "      <td>4.0</td>\n",
       "      <td>964981247</td>\n",
       "    </tr>\n",
       "    <tr>\n",
       "      <th>2</th>\n",
       "      <td>1</td>\n",
       "      <td>6</td>\n",
       "      <td>4.0</td>\n",
       "      <td>964982224</td>\n",
       "    </tr>\n",
       "    <tr>\n",
       "      <th>3</th>\n",
       "      <td>1</td>\n",
       "      <td>47</td>\n",
       "      <td>5.0</td>\n",
       "      <td>964983815</td>\n",
       "    </tr>\n",
       "    <tr>\n",
       "      <th>4</th>\n",
       "      <td>1</td>\n",
       "      <td>50</td>\n",
       "      <td>5.0</td>\n",
       "      <td>964982931</td>\n",
       "    </tr>\n",
       "  </tbody>\n",
       "</table>\n",
       "</div>"
      ],
      "text/plain": [
       "   userId  movieId  rating  timestamp\n",
       "0       1        1     4.0  964982703\n",
       "1       1        3     4.0  964981247\n",
       "2       1        6     4.0  964982224\n",
       "3       1       47     5.0  964983815\n",
       "4       1       50     5.0  964982931"
      ]
     },
     "execution_count": 3,
     "metadata": {},
     "output_type": "execute_result"
    }
   ],
   "source": [
    "ratings.head()"
   ]
  },
  {
   "cell_type": "markdown",
   "metadata": {},
   "source": [
    "**Q1**. What are the different types of recommendation models? Explain briefly with your own words the differences between them."
   ]
  },
  {
   "cell_type": "code",
   "execution_count": 4,
   "metadata": {},
   "outputs": [
    {
     "name": "stdout",
     "output_type": "stream",
     "text": [
      "Recommender systems includes: content based commendation, rating based recommendationg, and clustering based recommendation.\n",
      "Content based recommending systems are based on the similarity between user features (personal) and item features (to be recommended). It matches the users interests to description of item to be recommended \n",
      "Rating based recommending systems or collaborative filterings are based on the rating matrix. It only recommends based on users past behaviour or history. \n",
      "Clustering based recommending systems are based on the clusters of the rating matrix. Any user that is classified within a cluster receives recommendations based on the group. \n",
      "There is also hybrid recommending systems using rating and contents.\n"
     ]
    }
   ],
   "source": [
    "print(\"Recommender systems includes: content based commendation, rating based recommendationg, and clustering based recommendation.\")\n",
    "print(\"Content based recommending systems are based on the similarity between user features (personal) and item features (to be recommended). It matches the users interests to description of item to be recommended \")\n",
    "print(\"Rating based recommending systems or collaborative filterings are based on the rating matrix. It only recommends based on users past behaviour or history. \")\n",
    "print(\"Clustering based recommending systems are based on the clusters of the rating matrix. Any user that is classified within a cluster receives recommendations based on the group. \")\n",
    "print(\"There is also hybrid recommending systems using rating and contents.\")"
   ]
  },
  {
   "cell_type": "markdown",
   "metadata": {},
   "source": [
    "**Q1bis**. What data is expected by the LightFM `fit` method? Especially, how does the train data should be organized, and what should be the type of the train dataset? "
   ]
  },
  {
   "cell_type": "code",
   "execution_count": 5,
   "metadata": {
    "scrolled": true
   },
   "outputs": [
    {
     "name": "stdout",
     "output_type": "stream",
     "text": [
      "The fit method expects data in the form of a sparse matrix where rows represent users and columns represent items. Each cell contains values indicating interactions.\n",
      "Therefore, the raining data is a (no_user, no_items) sparse matrix, with 1s denoting positive and -1s negative interactions\n"
     ]
    }
   ],
   "source": [
    "\n",
    "print(\"The fit method expects data in the form of a sparse matrix where rows represent users and columns represent items. Each cell contains values indicating interactions.\")\n",
    "print(\"Therefore, the raining data is a (no_user, no_items) sparse matrix, with 1s denoting positive and -1s negative interactions\")\n"
   ]
  },
  {
   "cell_type": "markdown",
   "metadata": {},
   "source": [
    "**Q2**. Explore `movies` and `ratings`, what do those datasets contain? How are they organized?"
   ]
  },
  {
   "cell_type": "code",
   "execution_count": 6,
   "metadata": {},
   "outputs": [
    {
     "data": {
      "text/plain": [
       "(9742, 3)"
      ]
     },
     "execution_count": 6,
     "metadata": {},
     "output_type": "execute_result"
    }
   ],
   "source": [
    "movies.shape"
   ]
  },
  {
   "cell_type": "code",
   "execution_count": 7,
   "metadata": {},
   "outputs": [
    {
     "name": "stdout",
     "output_type": "stream",
     "text": [
      "<class 'pandas.core.frame.DataFrame'>\n",
      "RangeIndex: 9742 entries, 0 to 9741\n",
      "Data columns (total 3 columns):\n",
      " #   Column   Non-Null Count  Dtype \n",
      "---  ------   --------------  ----- \n",
      " 0   movieId  9742 non-null   int64 \n",
      " 1   title    9742 non-null   object\n",
      " 2   genres   9742 non-null   object\n",
      "dtypes: int64(1), object(2)\n",
      "memory usage: 228.5+ KB\n"
     ]
    }
   ],
   "source": [
    "movies.info()"
   ]
  },
  {
   "cell_type": "code",
   "execution_count": 8,
   "metadata": {},
   "outputs": [
    {
     "data": {
      "text/plain": [
       "(100836, 4)"
      ]
     },
     "execution_count": 8,
     "metadata": {},
     "output_type": "execute_result"
    }
   ],
   "source": [
    "ratings.shape"
   ]
  },
  {
   "cell_type": "code",
   "execution_count": 9,
   "metadata": {},
   "outputs": [
    {
     "name": "stdout",
     "output_type": "stream",
     "text": [
      "<class 'pandas.core.frame.DataFrame'>\n",
      "RangeIndex: 100836 entries, 0 to 100835\n",
      "Data columns (total 4 columns):\n",
      " #   Column     Non-Null Count   Dtype  \n",
      "---  ------     --------------   -----  \n",
      " 0   userId     100836 non-null  int64  \n",
      " 1   movieId    100836 non-null  int64  \n",
      " 2   rating     100836 non-null  float64\n",
      " 3   timestamp  100836 non-null  int64  \n",
      "dtypes: float64(1), int64(3)\n",
      "memory usage: 3.1 MB\n"
     ]
    }
   ],
   "source": [
    "ratings.info()"
   ]
  },
  {
   "cell_type": "code",
   "execution_count": 10,
   "metadata": {},
   "outputs": [
    {
     "data": {
      "text/plain": [
       "610"
      ]
     },
     "execution_count": 10,
     "metadata": {},
     "output_type": "execute_result"
    }
   ],
   "source": [
    "len(ratings[\"userId\"].unique())"
   ]
  },
  {
   "cell_type": "markdown",
   "metadata": {},
   "source": [
    "---"
   ]
  },
  {
   "cell_type": "markdown",
   "metadata": {},
   "source": [
    "### Q3 & Q4 are optional\n",
    "> you can come back to it if you have time after having finished the whole project of the day"
   ]
  },
  {
   "cell_type": "markdown",
   "metadata": {},
   "source": [
    "We created a few utils functions for you in `utils.py` script. Especially:\n",
    "- `threshold_interactions_df`:\n",
    "> Limit interactions df to minimum row and column interactions\n",
    "\n",
    "**Q3**. Open `src/utils.py` file, and have a look at the documentation of this function to understand its goal and how it works.\n",
    "\n",
    "Have a look the code to understand fully how it works. You should be familiar with everything.\n",
    "\n",
    "What does represent the variable `sparsity`? What is the range of values in which sparsity can be?"
   ]
  },
  {
   "cell_type": "code",
   "execution_count": 11,
   "metadata": {},
   "outputs": [
    {
     "name": "stdout",
     "output_type": "stream",
     "text": [
      "Sparsity represents the percentage of non-zero entries in the matrix. It is the percentage of existing ratings in the total interactions possible. \n",
      "Range: 0% (completely empty) to 100% (completely filled). \n",
      "Calculated as: sparsity = (number of interactions) / (total possible interactions) * 100.\n"
     ]
    }
   ],
   "source": [
    "\n",
    "print(\"Sparsity represents the percentage of non-zero entries in the matrix. It is the percentage of existing ratings in the total interactions possible. \\nRange: 0% (completely empty) to 100% (completely filled). \\nCalculated as: sparsity = (number of interactions) / (total possible interactions) * 100.\")\n"
   ]
  },
  {
   "cell_type": "markdown",
   "metadata": {},
   "source": [
    "**Q4**. Create a new DataFrame `ratings_thresh`, that filters `ratings` with only:\n",
    "- users that rated strictly more than 4 movies\n",
    "- movies that have been rated at least 10 times\n",
    "\n",
    "How many users/movies remain in this new dataset?"
   ]
  },
  {
   "cell_type": "code",
   "execution_count": 12,
   "metadata": {
    "scrolled": true
   },
   "outputs": [
    {
     "name": "stdout",
     "output_type": "stream",
     "text": [
      "Starting interactions info\n",
      "Number of rows: 610\n",
      "Number of cols: 9724\n",
      "Sparsity: 1.700%\n",
      "Ending interactions info\n",
      "Number of rows: 610\n",
      "Number of columns: 3650\n",
      "Sparsity: 4.055%\n",
      "\n",
      "Number of remaining users: 610\n",
      "Number of remaining movies: 3650\n"
     ]
    }
   ],
   "source": [
    "from utils import threshold_interactions_df\n",
    "\n",
    "ratings_thresh = threshold_interactions_df(ratings, 'userId', 'movieId', row_min=5, col_min=10)\n",
    "\n",
    "remaining_users = ratings_thresh['userId'].nunique()\n",
    "remaining_movies = ratings_thresh['movieId'].nunique()\n",
    "\n",
    "print(f\"\\nNumber of remaining users: {remaining_users}\")\n",
    "print(f\"Number of remaining movies: {remaining_movies}\")"
   ]
  },
  {
   "cell_type": "code",
   "execution_count": 13,
   "metadata": {},
   "outputs": [
    {
     "data": {
      "text/html": [
       "<div>\n",
       "<style scoped>\n",
       "    .dataframe tbody tr th:only-of-type {\n",
       "        vertical-align: middle;\n",
       "    }\n",
       "\n",
       "    .dataframe tbody tr th {\n",
       "        vertical-align: top;\n",
       "    }\n",
       "\n",
       "    .dataframe thead th {\n",
       "        text-align: right;\n",
       "    }\n",
       "</style>\n",
       "<table border=\"1\" class=\"dataframe\">\n",
       "  <thead>\n",
       "    <tr style=\"text-align: right;\">\n",
       "      <th></th>\n",
       "      <th>userId</th>\n",
       "      <th>movieId</th>\n",
       "      <th>rating</th>\n",
       "      <th>timestamp</th>\n",
       "    </tr>\n",
       "  </thead>\n",
       "  <tbody>\n",
       "    <tr>\n",
       "      <th>0</th>\n",
       "      <td>1</td>\n",
       "      <td>1</td>\n",
       "      <td>4.0</td>\n",
       "      <td>964982703</td>\n",
       "    </tr>\n",
       "    <tr>\n",
       "      <th>1</th>\n",
       "      <td>1</td>\n",
       "      <td>3</td>\n",
       "      <td>4.0</td>\n",
       "      <td>964981247</td>\n",
       "    </tr>\n",
       "    <tr>\n",
       "      <th>2</th>\n",
       "      <td>1</td>\n",
       "      <td>6</td>\n",
       "      <td>4.0</td>\n",
       "      <td>964982224</td>\n",
       "    </tr>\n",
       "    <tr>\n",
       "      <th>3</th>\n",
       "      <td>1</td>\n",
       "      <td>47</td>\n",
       "      <td>5.0</td>\n",
       "      <td>964983815</td>\n",
       "    </tr>\n",
       "    <tr>\n",
       "      <th>4</th>\n",
       "      <td>1</td>\n",
       "      <td>50</td>\n",
       "      <td>5.0</td>\n",
       "      <td>964982931</td>\n",
       "    </tr>\n",
       "  </tbody>\n",
       "</table>\n",
       "</div>"
      ],
      "text/plain": [
       "   userId  movieId  rating  timestamp\n",
       "0       1        1     4.0  964982703\n",
       "1       1        3     4.0  964981247\n",
       "2       1        6     4.0  964982224\n",
       "3       1       47     5.0  964983815\n",
       "4       1       50     5.0  964982931"
      ]
     },
     "execution_count": 13,
     "metadata": {},
     "output_type": "execute_result"
    }
   ],
   "source": [
    "ratings_thresh.head()"
   ]
  },
  {
   "cell_type": "markdown",
   "metadata": {},
   "source": [
    "**Q5**. In order to fit a [LightFM](https://lyst.github.io/lightfm/docs/home.html) model, we need to transform our Dataframe to a sparse matrix (cf. below). This is not straightforward so we included the function `df_to_matrix` in `utils.py`.\n",
    "\n",
    "> 🔦 **Hint**:  Sparse matrices are just **big matrices with a lot of zeros or empty values**.\n",
    "> \n",
    "> Existing tools (Pandas DataFrame, Numpy arrays for example) are not suitable for manipulating this kind of data. So we will use [Scipy sparse matrices](https://docs.scipy.org/doc/scipy-0.14.0/reference/sparse.html).\n",
    ">\n",
    "> It exists many different \"types\" of sparse matrices (CSC, CSR, COO, DIA, etc.). You don't need to know them. Just know that it corresponds to different formats with different methods of manipulation, slicing, indexing, etc.\n",
    "\n",
    "> 🔦 **Hint 2**:  By going from a DataFrame to a sparse matrix, you will lose the information of the ids (userId and movieId), you will only deal with indices (row number and column number). Therefore, the `df_to_matrix` function also returns dictionaries mapping indexes to ids (ex: uid_to_idx mapping userId to index of the matrix) \n",
    "\n",
    "\n",
    "Have a look at the util function documentation, and use it to create 5 new variables:\n",
    "- a final sparse matrix `ratings_matrix` (this will be the data used to train the model)\n",
    "- the following utils mappers:\n",
    "    - `uid_to_idx`\n",
    "    - `idx_to_uid`\n",
    "    - `mid_to_idx`\n",
    "    - `idx_to_mid`"
   ]
  },
  {
   "cell_type": "code",
   "execution_count": 14,
   "metadata": {
    "scrolled": true
   },
   "outputs": [
    {
     "name": "stdout",
     "output_type": "stream",
     "text": [
      "  (0, 0)\t1.0\n",
      "  (0, 1)\t1.0\n",
      "  (0, 2)\t1.0\n",
      "  (0, 3)\t1.0\n",
      "  (0, 4)\t1.0\n",
      "  (0, 5)\t1.0\n",
      "  (0, 6)\t1.0\n",
      "  (0, 7)\t1.0\n",
      "  (0, 8)\t1.0\n",
      "  (0, 9)\t1.0\n",
      "  (0, 10)\t1.0\n",
      "  (0, 11)\t1.0\n",
      "  (0, 12)\t1.0\n",
      "  (0, 13)\t1.0\n",
      "  (0, 14)\t1.0\n",
      "  (0, 15)\t1.0\n",
      "  (0, 16)\t1.0\n",
      "  (0, 17)\t1.0\n",
      "  (0, 18)\t1.0\n",
      "  (0, 19)\t1.0\n",
      "  (0, 20)\t1.0\n",
      "  (0, 21)\t1.0\n",
      "  (0, 22)\t1.0\n",
      "  (0, 23)\t1.0\n",
      "  (0, 24)\t1.0\n",
      "  :\t:\n",
      "  (609, 9699)\t1.0\n",
      "  (609, 9700)\t1.0\n",
      "  (609, 9701)\t1.0\n",
      "  (609, 9702)\t1.0\n",
      "  (609, 9703)\t1.0\n",
      "  (609, 9704)\t1.0\n",
      "  (609, 9705)\t1.0\n",
      "  (609, 9706)\t1.0\n",
      "  (609, 9707)\t1.0\n",
      "  (609, 9708)\t1.0\n",
      "  (609, 9709)\t1.0\n",
      "  (609, 9710)\t1.0\n",
      "  (609, 9711)\t1.0\n",
      "  (609, 9712)\t1.0\n",
      "  (609, 9713)\t1.0\n",
      "  (609, 9714)\t1.0\n",
      "  (609, 9715)\t1.0\n",
      "  (609, 9716)\t1.0\n",
      "  (609, 9717)\t1.0\n",
      "  (609, 9718)\t1.0\n",
      "  (609, 9719)\t1.0\n",
      "  (609, 9720)\t1.0\n",
      "  (609, 9721)\t1.0\n",
      "  (609, 9722)\t1.0\n",
      "  (609, 9723)\t1.0\n"
     ]
    }
   ],
   "source": [
    "from utils import df_to_matrix\n",
    "\n",
    "# Create the sparse matrix and mappers\n",
    "ratings_matrix, uid_to_idx, idx_to_uid, mid_to_idx, idx_to_mid = df_to_matrix(ratings, 'userId', 'movieId')\n",
    "\n",
    "print(ratings_matrix)"
   ]
  },
  {
   "cell_type": "code",
   "execution_count": 15,
   "metadata": {},
   "outputs": [
    {
     "data": {
      "text/html": [
       "<div>\n",
       "<style scoped>\n",
       "    .dataframe tbody tr th:only-of-type {\n",
       "        vertical-align: middle;\n",
       "    }\n",
       "\n",
       "    .dataframe tbody tr th {\n",
       "        vertical-align: top;\n",
       "    }\n",
       "\n",
       "    .dataframe thead th {\n",
       "        text-align: right;\n",
       "    }\n",
       "</style>\n",
       "<table border=\"1\" class=\"dataframe\">\n",
       "  <thead>\n",
       "    <tr style=\"text-align: right;\">\n",
       "      <th></th>\n",
       "      <th>userId</th>\n",
       "      <th>movieId</th>\n",
       "      <th>rating</th>\n",
       "      <th>timestamp</th>\n",
       "    </tr>\n",
       "  </thead>\n",
       "  <tbody>\n",
       "    <tr>\n",
       "      <th>300</th>\n",
       "      <td>4</td>\n",
       "      <td>21</td>\n",
       "      <td>3.0</td>\n",
       "      <td>986935199</td>\n",
       "    </tr>\n",
       "    <tr>\n",
       "      <th>301</th>\n",
       "      <td>4</td>\n",
       "      <td>32</td>\n",
       "      <td>2.0</td>\n",
       "      <td>945173447</td>\n",
       "    </tr>\n",
       "    <tr>\n",
       "      <th>302</th>\n",
       "      <td>4</td>\n",
       "      <td>45</td>\n",
       "      <td>3.0</td>\n",
       "      <td>986935047</td>\n",
       "    </tr>\n",
       "    <tr>\n",
       "      <th>303</th>\n",
       "      <td>4</td>\n",
       "      <td>47</td>\n",
       "      <td>2.0</td>\n",
       "      <td>945173425</td>\n",
       "    </tr>\n",
       "    <tr>\n",
       "      <th>304</th>\n",
       "      <td>4</td>\n",
       "      <td>52</td>\n",
       "      <td>3.0</td>\n",
       "      <td>964622786</td>\n",
       "    </tr>\n",
       "    <tr>\n",
       "      <th>...</th>\n",
       "      <td>...</td>\n",
       "      <td>...</td>\n",
       "      <td>...</td>\n",
       "      <td>...</td>\n",
       "    </tr>\n",
       "    <tr>\n",
       "      <th>511</th>\n",
       "      <td>4</td>\n",
       "      <td>4765</td>\n",
       "      <td>5.0</td>\n",
       "      <td>1007569445</td>\n",
       "    </tr>\n",
       "    <tr>\n",
       "      <th>512</th>\n",
       "      <td>4</td>\n",
       "      <td>4881</td>\n",
       "      <td>3.0</td>\n",
       "      <td>1007569445</td>\n",
       "    </tr>\n",
       "    <tr>\n",
       "      <th>513</th>\n",
       "      <td>4</td>\n",
       "      <td>4896</td>\n",
       "      <td>4.0</td>\n",
       "      <td>1007574532</td>\n",
       "    </tr>\n",
       "    <tr>\n",
       "      <th>514</th>\n",
       "      <td>4</td>\n",
       "      <td>4902</td>\n",
       "      <td>4.0</td>\n",
       "      <td>1007569465</td>\n",
       "    </tr>\n",
       "    <tr>\n",
       "      <th>515</th>\n",
       "      <td>4</td>\n",
       "      <td>4967</td>\n",
       "      <td>5.0</td>\n",
       "      <td>1007569424</td>\n",
       "    </tr>\n",
       "  </tbody>\n",
       "</table>\n",
       "<p>216 rows × 4 columns</p>\n",
       "</div>"
      ],
      "text/plain": [
       "     userId  movieId  rating   timestamp\n",
       "300       4       21     3.0   986935199\n",
       "301       4       32     2.0   945173447\n",
       "302       4       45     3.0   986935047\n",
       "303       4       47     2.0   945173425\n",
       "304       4       52     3.0   964622786\n",
       "..      ...      ...     ...         ...\n",
       "511       4     4765     5.0  1007569445\n",
       "512       4     4881     3.0  1007569445\n",
       "513       4     4896     4.0  1007574532\n",
       "514       4     4902     4.0  1007569465\n",
       "515       4     4967     5.0  1007569424\n",
       "\n",
       "[216 rows x 4 columns]"
      ]
     },
     "execution_count": 15,
     "metadata": {},
     "output_type": "execute_result"
    }
   ],
   "source": [
    "ratings[ratings.userId==4]"
   ]
  },
  {
   "cell_type": "markdown",
   "metadata": {},
   "source": [
    "**Q6**.\n",
    "- On the one side, find what movies did the userId 4 rate?\n",
    "\n",
    "- On the other side, what is the value of `ratings_matrix` for:\n",
    "    - userId = 4 and movieId=1\n",
    "    - userId = 4 and movieId=2\n",
    "    - userId = 4 and movieId=21\n",
    "    - userId = 4 and movieId=32\n",
    "    - userId = 4 and movieId=126\n",
    "\n",
    "Conclude on the values signification in `ratings_matrix`"
   ]
  },
  {
   "cell_type": "code",
   "execution_count": 16,
   "metadata": {
    "scrolled": true
   },
   "outputs": [
    {
     "name": "stdout",
     "output_type": "stream",
     "text": [
      "     userId  movieId  rating   timestamp\n",
      "300       4       21     3.0   986935199\n",
      "301       4       32     2.0   945173447\n",
      "302       4       45     3.0   986935047\n",
      "303       4       47     2.0   945173425\n",
      "304       4       52     3.0   964622786\n",
      "..      ...      ...     ...         ...\n",
      "511       4     4765     5.0  1007569445\n",
      "512       4     4881     3.0  1007569445\n",
      "513       4     4896     4.0  1007574532\n",
      "514       4     4902     4.0  1007569465\n",
      "515       4     4967     5.0  1007569424\n",
      "\n",
      "[216 rows x 4 columns]\n",
      "Rating for userId=4 and movieId=1: 0.0\n",
      "Rating for userId=4 and movieId=2: 0.0\n",
      "Rating for userId=4 and movieId=21: 1.0\n",
      "Rating for userId=4 and movieId=32: 1.0\n",
      "Rating for userId=4 and movieId=126: 1.0\n"
     ]
    }
   ],
   "source": [
    "user_4_ratings = ratings[ratings['userId'] == 4]\n",
    "print(user_4_ratings)\n",
    "\n",
    "# Get values from the ratings_matrix\n",
    "user_4_idx = uid_to_idx[4]\n",
    "movie_ids = [1, 2, 21, 32, 126]\n",
    "for movie_id in movie_ids:\n",
    "    movie_idx = mid_to_idx[movie_id]\n",
    "    rating_value = ratings_matrix[user_4_idx, movie_idx]\n",
    "    print(f\"Rating for userId=4 and movieId={movie_id}: {rating_value}\")"
   ]
  },
  {
   "cell_type": "markdown",
   "metadata": {},
   "source": [
    "**Q7**. Now that you have a `ratings_matrix` in the correct format, let's save it in pickle format:\n",
    "- Create a variable `dst_dir` corresponding to the path of the folder `data/netflix` located at the root of the repository\n",
    "- **Verify that this is the correct path**\n",
    "- Save the ratings_matrix in pickle (as `ratings_matrix.pkl`) in this corresponding directory"
   ]
  },
  {
   "cell_type": "code",
   "execution_count": 17,
   "metadata": {},
   "outputs": [],
   "source": [
    "import pickle\n",
    "\n",
    "#define the directory to save data\n",
    "dst_dir = \"data/netflix\"\n",
    "\n",
    "#verify the path\n",
    "import os\n",
    "if not os.path.exists(dst_dir):\n",
    "    os.makedirs(dst_dir)\n",
    "\n",
    "#save  ratings_matrix\n",
    "with open(os.path.join(dst_dir, 'ratings_matrix.pkl'), 'wb') as f:\n",
    "    pickle.dump(ratings_matrix, f)"
   ]
  },
  {
   "cell_type": "markdown",
   "metadata": {},
   "source": [
    "**Q6**. Save also all mappings objects into pickle (`idx_to_mid`, `mid_to_idx`, `uid_to_idx`, `idx_to_uid`) as it will be useful for later."
   ]
  },
  {
   "cell_type": "code",
   "execution_count": 18,
   "metadata": {},
   "outputs": [],
   "source": [
    "#save mappers\n",
    "mappers = {\n",
    "    'uid_to_idx': uid_to_idx,\n",
    "    'idx_to_uid': idx_to_uid,\n",
    "    'mid_to_idx': mid_to_idx,\n",
    "    'idx_to_mid': idx_to_mid\n",
    "}\n",
    "\n",
    "for name, mapper in mappers.items():\n",
    "    with open(os.path.join(dst_dir, f'{name}.pkl'), 'wb') as f:\n",
    "        pickle.dump(mapper, f)"
   ]
  },
  {
   "cell_type": "markdown",
   "metadata": {},
   "source": [
    "Up to next challenge now! 🍿"
   ]
  }
 ],
 "metadata": {
  "kernelspec": {
   "display_name": "Python 3 (ipykernel)",
   "language": "python",
   "name": "python3"
  },
  "language_info": {
   "codemirror_mode": {
    "name": "ipython",
    "version": 3
   },
   "file_extension": ".py",
   "mimetype": "text/x-python",
   "name": "python",
   "nbconvert_exporter": "python",
   "pygments_lexer": "ipython3",
   "version": "3.9.13"
  },
  "toc": {
   "base_numbering": 1,
   "nav_menu": {},
   "number_sections": true,
   "sideBar": true,
   "skip_h1_title": false,
   "title_cell": "Table of Contents",
   "title_sidebar": "Contents",
   "toc_cell": false,
   "toc_position": {},
   "toc_section_display": true,
   "toc_window_display": false
  }
 },
 "nbformat": 4,
 "nbformat_minor": 2
}
